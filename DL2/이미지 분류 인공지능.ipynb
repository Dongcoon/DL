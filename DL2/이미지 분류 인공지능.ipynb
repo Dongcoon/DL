{
 "cells": [
  {
   "cell_type": "code",
   "execution_count": 5,
   "id": "89e67058-c22c-4a21-aad3-b8d598acfbd1",
   "metadata": {
    "collapsed": true,
    "jupyter": {
     "outputs_hidden": true
    },
    "tags": []
   },
   "outputs": [
    {
     "name": "stdout",
     "output_type": "stream",
     "text": [
      "Collecting tensorflow_datasets\n",
      "  Downloading tensorflow_datasets-4.8.2-py3-none-any.whl (5.3 MB)\n",
      "     ---------------------------------------- 5.3/5.3 MB 7.8 MB/s eta 0:00:00\n",
      "Collecting etils[enp,epath]>=0.9.0\n",
      "  Downloading etils-1.0.0-py3-none-any.whl (146 kB)\n",
      "     -------------------------------------- 146.5/146.5 kB 4.4 MB/s eta 0:00:00\n",
      "Requirement already satisfied: dill in d:\\python\\anaconda3\\lib\\site-packages (from tensorflow_datasets) (0.3.4)\n",
      "Requirement already satisfied: wrapt in d:\\python\\anaconda3\\lib\\site-packages (from tensorflow_datasets) (1.14.1)\n",
      "Requirement already satisfied: numpy in d:\\python\\anaconda3\\lib\\site-packages (from tensorflow_datasets) (1.21.5)\n",
      "Requirement already satisfied: requests>=2.19.0 in d:\\python\\anaconda3\\lib\\site-packages (from tensorflow_datasets) (2.28.1)\n",
      "Requirement already satisfied: termcolor in d:\\python\\anaconda3\\lib\\site-packages (from tensorflow_datasets) (2.2.0)\n",
      "Requirement already satisfied: click in d:\\python\\anaconda3\\lib\\site-packages (from tensorflow_datasets) (8.0.4)\n",
      "Requirement already satisfied: tqdm in d:\\python\\anaconda3\\lib\\site-packages (from tensorflow_datasets) (4.64.1)\n",
      "Collecting dm-tree\n",
      "  Downloading dm_tree-0.1.8-cp39-cp39-win_amd64.whl (101 kB)\n",
      "     -------------------------------------- 101.5/101.5 kB 6.1 MB/s eta 0:00:00\n",
      "Requirement already satisfied: toml in d:\\python\\anaconda3\\lib\\site-packages (from tensorflow_datasets) (0.10.2)\n",
      "Requirement already satisfied: absl-py in d:\\python\\anaconda3\\lib\\site-packages (from tensorflow_datasets) (1.4.0)\n",
      "Requirement already satisfied: psutil in d:\\python\\anaconda3\\lib\\site-packages (from tensorflow_datasets) (5.9.0)\n",
      "Collecting tensorflow-metadata\n",
      "  Downloading tensorflow_metadata-1.12.0-py3-none-any.whl (52 kB)\n",
      "     ---------------------------------------- 52.3/52.3 kB 2.6 MB/s eta 0:00:00\n",
      "Requirement already satisfied: protobuf>=3.12.2 in d:\\python\\anaconda3\\lib\\site-packages (from tensorflow_datasets) (3.19.6)\n",
      "Collecting promise\n",
      "  Downloading promise-2.3.tar.gz (19 kB)\n",
      "  Preparing metadata (setup.py): started\n",
      "  Preparing metadata (setup.py): finished with status 'done'\n",
      "Requirement already satisfied: typing_extensions in d:\\python\\anaconda3\\lib\\site-packages (from etils[enp,epath]>=0.9.0->tensorflow_datasets) (4.3.0)\n",
      "Requirement already satisfied: zipp in d:\\python\\anaconda3\\lib\\site-packages (from etils[enp,epath]>=0.9.0->tensorflow_datasets) (3.8.0)\n",
      "Collecting importlib_resources\n",
      "  Downloading importlib_resources-5.10.2-py3-none-any.whl (34 kB)\n",
      "Requirement already satisfied: certifi>=2017.4.17 in d:\\python\\anaconda3\\lib\\site-packages (from requests>=2.19.0->tensorflow_datasets) (2022.9.14)\n",
      "Requirement already satisfied: urllib3<1.27,>=1.21.1 in d:\\python\\anaconda3\\lib\\site-packages (from requests>=2.19.0->tensorflow_datasets) (1.26.11)\n",
      "Requirement already satisfied: charset-normalizer<3,>=2 in d:\\python\\anaconda3\\lib\\site-packages (from requests>=2.19.0->tensorflow_datasets) (2.0.4)\n",
      "Requirement already satisfied: idna<4,>=2.5 in d:\\python\\anaconda3\\lib\\site-packages (from requests>=2.19.0->tensorflow_datasets) (3.3)\n",
      "Requirement already satisfied: colorama in d:\\python\\anaconda3\\lib\\site-packages (from click->tensorflow_datasets) (0.4.5)\n",
      "Requirement already satisfied: six in d:\\python\\anaconda3\\lib\\site-packages (from promise->tensorflow_datasets) (1.16.0)\n",
      "Collecting googleapis-common-protos<2,>=1.52.0\n",
      "  Downloading googleapis_common_protos-1.58.0-py2.py3-none-any.whl (223 kB)\n",
      "     -------------------------------------- 223.0/223.0 kB 6.6 MB/s eta 0:00:00\n",
      "Building wheels for collected packages: promise\n",
      "  Building wheel for promise (setup.py): started\n",
      "  Building wheel for promise (setup.py): finished with status 'done'\n",
      "  Created wheel for promise: filename=promise-2.3-py3-none-any.whl size=21486 sha256=a38df6e8f72f9a2ddca2fa89d24962c3313d6be6bc83f28fbd6eff0e8e981adb\n",
      "  Stored in directory: c:\\users\\lg pc\\appdata\\local\\pip\\cache\\wheels\\68\\ee\\8d\\57af0d8b0d34c2e918ff29d3af02b348db6499bb107caa007e\n",
      "Successfully built promise\n",
      "Installing collected packages: dm-tree, promise, importlib_resources, googleapis-common-protos, etils, tensorflow-metadata, tensorflow_datasets\n",
      "Successfully installed dm-tree-0.1.8 etils-1.0.0 googleapis-common-protos-1.58.0 importlib_resources-5.10.2 promise-2.3 tensorflow-metadata-1.12.0 tensorflow_datasets-4.8.2\n",
      "Note: you may need to restart the kernel to use updated packages.\n"
     ]
    }
   ],
   "source": [
    "pip install tensorflow_datasets"
   ]
  },
  {
   "cell_type": "code",
   "execution_count": 6,
   "id": "1e6ff005-95b8-47d1-8c1c-a34cdca24e28",
   "metadata": {},
   "outputs": [],
   "source": [
    "import cv2\n",
    "import matplotlib.pyplot as plt\n",
    "\n",
    "import tensorflow as tf \n",
    "import tensorflow_datasets as tfds"
   ]
  },
  {
   "cell_type": "code",
   "execution_count": 7,
   "id": "bf71cdea-ca44-4b61-8ac2-80009d625c44",
   "metadata": {},
   "outputs": [
    {
     "name": "stdout",
     "output_type": "stream",
     "text": [
      "Downloading and preparing dataset Unknown size (download: Unknown size, generated: Unknown size, total: Unknown size) to C:\\Users\\LG PC\\tensorflow_datasets\\cats_vs_dogs\\4.0.0...\n"
     ]
    },
    {
     "data": {
      "application/vnd.jupyter.widget-view+json": {
       "model_id": "bb8798a0ef4b49109272b3600b1b7fda",
       "version_major": 2,
       "version_minor": 0
      },
      "text/plain": [
       "Dl Completed...: 0 url [00:00, ? url/s]"
      ]
     },
     "metadata": {},
     "output_type": "display_data"
    },
    {
     "data": {
      "application/vnd.jupyter.widget-view+json": {
       "model_id": "88ac5a7b96764edabee35d10625556d2",
       "version_major": 2,
       "version_minor": 0
      },
      "text/plain": [
       "Dl Size...: 0 MiB [00:00, ? MiB/s]"
      ]
     },
     "metadata": {},
     "output_type": "display_data"
    },
    {
     "data": {
      "application/vnd.jupyter.widget-view+json": {
       "model_id": "",
       "version_major": 2,
       "version_minor": 0
      },
      "text/plain": [
       "Generating splits...:   0%|          | 0/1 [00:00<?, ? splits/s]"
      ]
     },
     "metadata": {},
     "output_type": "display_data"
    },
    {
     "data": {
      "application/vnd.jupyter.widget-view+json": {
       "model_id": "",
       "version_major": 2,
       "version_minor": 0
      },
      "text/plain": [
       "Generating train examples...: 0 examples [00:00, ? examples/s]"
      ]
     },
     "metadata": {},
     "output_type": "display_data"
    },
    {
     "name": "stderr",
     "output_type": "stream",
     "text": [
      "WARNING:absl:1738 images were corrupted and were skipped\n"
     ]
    },
    {
     "data": {
      "application/vnd.jupyter.widget-view+json": {
       "model_id": "",
       "version_major": 2,
       "version_minor": 0
      },
      "text/plain": [
       "Shuffling C:\\Users\\LG PC\\tensorflow_datasets\\cats_vs_dogs\\4.0.0.incomplete8DNV0K\\cats_vs_dogs-train.tfrecord*.…"
      ]
     },
     "metadata": {},
     "output_type": "display_data"
    },
    {
     "name": "stdout",
     "output_type": "stream",
     "text": [
      "Dataset cats_vs_dogs downloaded and prepared to C:\\Users\\LG PC\\tensorflow_datasets\\cats_vs_dogs\\4.0.0. Subsequent calls will reuse this data.\n"
     ]
    },
    {
     "data": {
      "text/plain": [
       "tfds.core.DatasetInfo(\n",
       "    name='cats_vs_dogs',\n",
       "    full_name='cats_vs_dogs/4.0.0',\n",
       "    description=\"\"\"\n",
       "    A large set of images of cats and dogs. There are 1738 corrupted images that are dropped.\n",
       "    \"\"\",\n",
       "    homepage='https://www.microsoft.com/en-us/download/details.aspx?id=54765',\n",
       "    data_path='C:\\\\Users\\\\LG PC\\\\tensorflow_datasets\\\\cats_vs_dogs\\\\4.0.0',\n",
       "    file_format=tfrecord,\n",
       "    download_size=786.67 MiB,\n",
       "    dataset_size=689.64 MiB,\n",
       "    features=FeaturesDict({\n",
       "        'image': Image(shape=(None, None, 3), dtype=uint8),\n",
       "        'image/filename': Text(shape=(), dtype=string),\n",
       "        'label': ClassLabel(shape=(), dtype=int64, num_classes=2),\n",
       "    }),\n",
       "    supervised_keys=('image', 'label'),\n",
       "    disable_shuffling=False,\n",
       "    splits={\n",
       "        'train': <SplitInfo num_examples=23262, num_shards=8>,\n",
       "    },\n",
       "    citation=\"\"\"@Inproceedings (Conference){asirra-a-captcha-that-exploits-interest-aligned-manual-image-categorization,\n",
       "    author = {Elson, Jeremy and Douceur, John (JD) and Howell, Jon and Saul, Jared},\n",
       "    title = {Asirra: A CAPTCHA that Exploits Interest-Aligned Manual Image Categorization},\n",
       "    booktitle = {Proceedings of 14th ACM Conference on Computer and Communications Security (CCS)},\n",
       "    year = {2007},\n",
       "    month = {October},\n",
       "    publisher = {Association for Computing Machinery, Inc.},\n",
       "    url = {https://www.microsoft.com/en-us/research/publication/asirra-a-captcha-that-exploits-interest-aligned-manual-image-categorization/},\n",
       "    edition = {Proceedings of 14th ACM Conference on Computer and Communications Security (CCS)},\n",
       "    }\"\"\",\n",
       ")"
      ]
     },
     "execution_count": 7,
     "metadata": {},
     "output_type": "execute_result"
    }
   ],
   "source": [
    "data_train, ds_info = tfds.load('cats_vs_dogs', split=[tfds.Split.TRAIN], with_info=True)\n",
    "ds_info"
   ]
  },
  {
   "cell_type": "code",
   "execution_count": null,
   "id": "0347d940-4cc6-4b22-b0fb-bf6a17f2301f",
   "metadata": {},
   "outputs": [],
   "source": [
    "images = [one['image'].numpy() for one in data_train[0].take(30)]\n",
    "len(images)"
   ]
  },
  {
   "cell_type": "code",
   "execution_count": null,
   "id": "0a071825-3ae1-4b02-bcb1-f4a79e3d6bfc",
   "metadata": {},
   "outputs": [],
   "source": [
    "plt.imshow(images[0])\n",
    "plt.axis('off')"
   ]
  },
  {
   "cell_type": "code",
   "execution_count": null,
   "id": "d23f6ab1-8b84-4299-a3b7-70f6357b9ca2",
   "metadata": {},
   "outputs": [],
   "source": [
    "resnet50_pre = tf.keras.applications.resnet.ResNet50(weights='imagenet', input_shape=(224,224,3))\n",
    "resnet50_pre.summary()"
   ]
  },
  {
   "cell_type": "code",
   "execution_count": null,
   "id": "3851b3e8-acc9-41f4-bd04-c9d8b40c515f",
   "metadata": {},
   "outputs": [],
   "source": [
    "from tensorflow.keras.applications.imagenet_utils import decode_predictions\n",
    "\n",
    "def pred_img(img):\n",
    "  plt.imshow(img)\n",
    "  plt.axis('off')\n",
    "  plt.show()\n",
    "\n",
    "  img_resized = cv2.resize(img,(224,224))\n",
    "  pred = resnet50_pre.predict(img_resized.reshape([1,224,224,3]))\n",
    "  decoded_pred = decode_predictions(pred)\n",
    "\n",
    "  for i, instance in enumerate(decoded_pred[0]):\n",
    "    print('{}위: {} ({:.2f}%)'.format(i+1, instance[1], instance[2] * 100))"
   ]
  },
  {
   "cell_type": "code",
   "execution_count": null,
   "id": "b35a6c7a-3b64-4b68-848d-3c0865614909",
   "metadata": {},
   "outputs": [],
   "source": [
    "pred_img(images[15])"
   ]
  },
  {
   "cell_type": "code",
   "execution_count": 8,
   "id": "7748edce-1f96-4e9a-ba8e-a656240d9c74",
   "metadata": {},
   "outputs": [
    {
     "name": "stdout",
     "output_type": "stream",
     "text": [
      "Collecting tensorflow_hub\n",
      "  Downloading tensorflow_hub-0.12.0-py2.py3-none-any.whl (108 kB)\n",
      "     -------------------------------------- 108.8/108.8 kB 3.2 MB/s eta 0:00:00\n",
      "Requirement already satisfied: protobuf>=3.8.0 in d:\\python\\anaconda3\\lib\\site-packages (from tensorflow_hub) (3.19.6)\n",
      "Requirement already satisfied: numpy>=1.12.0 in d:\\python\\anaconda3\\lib\\site-packages (from tensorflow_hub) (1.21.5)\n",
      "Installing collected packages: tensorflow_hub\n",
      "Successfully installed tensorflow_hub-0.12.0\n",
      "Note: you may need to restart the kernel to use updated packages.\n"
     ]
    }
   ],
   "source": [
    "pip install --upgrade tensorflow_hub"
   ]
  },
  {
   "cell_type": "code",
   "execution_count": 9,
   "id": "eaaae320-a84b-45e0-8032-4bcc72d7caaf",
   "metadata": {},
   "outputs": [
    {
     "name": "stdout",
     "output_type": "stream",
     "text": [
      "Requirement already satisfied: imageio in d:\\python\\anaconda3\\lib\\site-packages (2.19.3)\n",
      "Requirement already satisfied: pillow>=8.3.2 in d:\\python\\anaconda3\\lib\\site-packages (from imageio) (9.2.0)\n",
      "Requirement already satisfied: numpy in d:\\python\\anaconda3\\lib\\site-packages (from imageio) (1.21.5)\n",
      "Note: you may need to restart the kernel to use updated packages.\n"
     ]
    }
   ],
   "source": [
    "pip install imageio"
   ]
  },
  {
   "cell_type": "code",
   "execution_count": null,
   "id": "1f8ec468-ce71-4cd8-9c2a-e0937faedd5d",
   "metadata": {},
   "outputs": [],
   "source": []
  }
 ],
 "metadata": {
  "kernelspec": {
   "display_name": "Python 3 (ipykernel)",
   "language": "python",
   "name": "python3"
  },
  "language_info": {
   "codemirror_mode": {
    "name": "ipython",
    "version": 3
   },
   "file_extension": ".py",
   "mimetype": "text/x-python",
   "name": "python",
   "nbconvert_exporter": "python",
   "pygments_lexer": "ipython3",
   "version": "3.9.13"
  }
 },
 "nbformat": 4,
 "nbformat_minor": 5
}
