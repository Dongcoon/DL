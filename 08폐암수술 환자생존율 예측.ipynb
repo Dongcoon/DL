{
 "cells": [
  {
   "cell_type": "code",
   "execution_count": null,
   "id": "1629a4bb-cb30-4a60-b6e2-b0444939876a",
   "metadata": {},
   "outputs": [],
   "source": [
    "# 데이터 적재 - 폐암 수술 환자의 의료 기록과 1년 후 사망 여부\n",
    "# 종양의 유형, 폐활량, 호흡 곤란 여부, 고통 정도, 기침, 흡연, 천식 여부 등 16가지 환자 상태를 조사해서 기록\n",
    "# 수술 1년 후의 생존 결과"
   ]
  },
  {
   "cell_type": "code",
   "execution_count": null,
   "id": "5b0fa1b8-52b9-47e8-860d-a9090b76cd12",
   "metadata": {},
   "outputs": [],
   "source": [
    "# 은닉층 갯수, 은닉층 노드 갯수, activation, epochs, batch_size 조합으로 모델 디자인"
   ]
  },
  {
   "cell_type": "code",
   "execution_count": 2,
   "id": "285d48c9-d6d5-4fc2-9e0b-5761e1bfbe0c",
   "metadata": {},
   "outputs": [
    {
     "name": "stdout",
     "output_type": "stream",
     "text": [
      "Epoch 1/5\n",
      "30/30 [==============================] - 0s 2ms/step - loss: 2.5970 - accuracy: 0.8362\n",
      "Epoch 2/5\n",
      "30/30 [==============================] - 0s 2ms/step - loss: 1.1352 - accuracy: 0.8234\n",
      "Epoch 3/5\n",
      "30/30 [==============================] - 0s 2ms/step - loss: 0.5240 - accuracy: 0.8298\n",
      "Epoch 4/5\n",
      "30/30 [==============================] - 0s 2ms/step - loss: 0.4540 - accuracy: 0.8468\n",
      "Epoch 5/5\n",
      "30/30 [==============================] - 0s 2ms/step - loss: 0.4404 - accuracy: 0.8468\n"
     ]
    }
   ],
   "source": [
    "# 텐서플로 라이브러리 안에 있는 케라스 API에서 필요한 함수들을 불러옵니다.\n",
    "from tensorflow.keras.models import Sequential\n",
    "from tensorflow.keras.layers import Dense\n",
    "\n",
    "# 데이터를 다루는 데 필요한 라이브러리를 불러옵니다.\n",
    "import numpy as np\n",
    "\n",
    "# 준비된 수술 환자 데이터를 불러옵니다.\n",
    "Data_set = np.loadtxt(\"data/ThoraricSurgery3.csv\", delimiter=\",\") \n",
    "\n",
    "X = Data_set[:,0:16]  # 환자의 진찰 기록을 X로 지정합니다.\n",
    "y = Data_set[:,16]    # 수술 1년 후 사망/생존 여부를 y로 지정합니다.\n",
    "\n",
    "# 딥러닝 모델의 구조를 결정합니다.\n",
    "# 딥러닝의 모델을 설정하고 구동하는 부분\n",
    "# 딥러닝의 구조를 짜고 층을 설정하는 부분\n",
    "# 딥러닝이란 입력층과 출력층 사이에 은닉층들을 차곡차곡 추가하면서 학습시키는 것임\n",
    "# 케라스에서는 Sequential() 함수를 통해 쉽게 구현\n",
    "# 맨 마지막 층은 결과를 출력하는 ‘출력층’이 됩니다. 나머지는 모두 ‘은닉층’의 역할을 합\n",
    "model = Sequential()\n",
    "\n",
    "# Dense() 함수의 첫 번째 인자에 몇 개의 노드를 이 층에 만들 것인지 숫자를 적어 줍니다. \n",
    "# 노드란 앞서 소개된 ‘가중합’에 해당하는 것으로 \n",
    "# 이전 층에서 전달된 변수와 가중치, 바이어스가 하나로 모이게 되는 곳\n",
    "# keras는 입력층을 따로 만드는 것이 아니라, \n",
    "# 첫 번째 은닉층에 input_dim을 적어 줌으로써 \n",
    "# 첫 번째 Dense가 은닉층 + 입력층의 역할을 겸합니다. \n",
    "# 16 -> 30\n",
    "model.add(Dense(30, input_dim=16, activation='relu'))\n",
    "# 출력 값을 하나로 정해서 보여 주어야 하므로 출력층의 노드 수는 한 개\n",
    "# 그리고 이 노드에서 입력받은 값은 활성화 함수를 거쳐 최종 출력 값으로 나와야 합니다. \n",
    "# 여기서는 활성화 함수로 시그모이드(sigmoid) 함수를 사용\n",
    "model.add(Dense(1, activation='sigmoid'))\n",
    "\n",
    "# 딥러닝 모델을 실행합니다.\n",
    "# 앞에서 정한 모델을 컴퓨터가 알아들을 수 있게끔 컴파일하는 부분\n",
    "# 앞서 지정한 모델이 효과적으로 구현될 수 있게 여러 가지 환경을 설정해 주면서 컴파일하는 부분\n",
    "# loss : 어떤 오차 함수를 사용할지 정해야, 최적의 가중치를 학습하기 위해 필수적인 부분\n",
    "# 선형 회귀 모델은 평균 제곱 계열(mean_squared_error, mean_absolute_error, \n",
    "#    mean_absolute_percentage_error, mean_squared_logarithmic_error) 중 하나를, \n",
    "# 이항 분류를 위해서는 binary_crossentropy를, \n",
    "# 그리고 다항 분류에서는 categorical_crossentropy를 사용\n",
    "# optimizer : 학습률 변화에 사용할 알고리즘 지정\n",
    "# metrics : 모델이 컴파일될 때 모델 수행의 결과를 나타내게끔 설정하는 부분\n",
    "# 학습셋에 대한 손실 값을 나타내는 loss, \n",
    "# 테스트셋을 적용할 경우 테스트셋에 대한 정확도를 나타내는 val_acc, \n",
    "# 테스트셋에 대한 손실 값을 나타내는 val_loss 등을 사용가능\n",
    "model.compile(loss='binary_crossentropy', optimizer='adam',\n",
    "metrics=['accuracy'])\n",
    "\n",
    "# 모델을 실제로 수행하는 부분\n",
    "# 에포크 : 각 샘플이 처음부터 끝까지 다섯 번 재사용될 때까지 실행을 반복\n",
    "# batch_size : 샘플을 한 번에 몇 개씩 처리할지 정하는 부분\n",
    "# batch_size가 너무 크면 학습 속도가 느려지고, \n",
    "# 너무 작으면 각 실행 값의 편차가 생겨서 전체 결괏값이 불안정\n",
    "history = model.fit(X, y, epochs=5, batch_size=16)"
   ]
  },
  {
   "cell_type": "markdown",
   "id": "1e41227e-c91d-4ac2-8910-e50c315d4246",
   "metadata": {},
   "source": [
    "### 손실함수loss function\n",
    "* 손실함수loss function\n",
    "* 비용cost함수라고도 함\n",
    "* 신경망이 잘 학습하고 있는지를 나타내주는 지표\n",
    "* 손실loss,비용cost은 출력값과 실제값 사이의 오차를 의미\n",
    "* 신경망에서는 이것들이 최소화되도록 하는 과정이 학습임\n",
    "* 따라서, 손실이 최소화된다는 것은 학습이 잘되고 있음을 의미\n",
    "* 딥러닝에서 손실함수는 평균제곱오차MSE(회귀)와\n",
    "* 교차엔트로피오차CEE(분류)를 사용함"
   ]
  },
  {
   "cell_type": "markdown",
   "id": "a58351be-6cf8-461c-9490-53c46b0c0417",
   "metadata": {},
   "source": [
    "### 학습최적화 방법\n",
    "* 텐서플로에서는 optimizer로 설정\n",
    "* 경사하강법SGD - 확률적 경사하강법 : 무작위 값을 대입\n",
    "* 모멘텀        - SGD + 무작위값에 탄성을 부여 (정확도 개선)\n",
    "* 아다그라드adagrad - 학습률에 탄성을 부여 (보폭크기 개선), 무작위값 대입 횟수를 조절\n",
    "* RMSprop - adagrad의 보폭 민감도를 개선 (보폭크기 개선)\n",
    "* Adam - 무작위값에 탄성부여, 학습률에도 탄성 부여, 즉, 정확도 개선 + 보폭크기 개선\n",
    "    + keras.optimizer.Adam(lr=0.0001,beta_1=0.9, beta_2=0.9999, elpsilon=1e-08, decay=0.0)"
   ]
  },
  {
   "cell_type": "markdown",
   "id": "82c0878f-e68a-4b3e-b145-a433385e6737",
   "metadata": {},
   "source": [
    "### 활성화 함수의 중요성\n",
    "* 입력값과 가중치의 곱의 합으로 나온 결과를 한번 더 정재하기 위한 목적의 함수\n",
    "* 여러 노드가 보내주는 값을 적절하게 필터링해서 출력층으로 값을 보내줘야만 올바른 분석을 할 수 있는 결과 도출\n",
    "* 활성화 함수의 종류\n",
    "    + 시그모이드 : 초기 신경망에서 사용했던 활성화 함수, MLP 신경망에서 발생된 문제 때문에\n",
    "      더이상 사용하지 않는 활성화 함수, 가중치 소멸문제 : vanishing gradient\n",
    "    + tanh : 하이퍼블릭 탄첸트, 시그모이드 함수의 y값의 범위를 -1~1로 확장\n",
    "      여전히 은닉층 수가 증가하면 가중치 소멸문제 발생\n",
    "    + ReLu : 힌튼 교수가 제안 - 시그모이드 함수의 대안,\n",
    "            x가 0보다 작으면 모든 값을 0으로, x가 0보다 크면 x값 그대로 사용\n",
    "    + ReLu-6 : x가 0보다 크면 그대로 사용하되 6을 넘지 않도록 조정\n",
    "    + softmax : 입력값에 대해 0 ~ 1사이의 값(확률)으로 출력하되\n",
    "               출력값의 총합이 항상 1이 되도록 함,\n",
    "               주로 범주형 데이터분석시 사용하는 활성화 함수"
   ]
  },
  {
   "cell_type": "code",
   "execution_count": null,
   "id": "8798e0e6-9f06-413c-aab8-536a5e12be92",
   "metadata": {},
   "outputs": [],
   "source": []
  }
 ],
 "metadata": {
  "kernelspec": {
   "display_name": "Python 3 (ipykernel)",
   "language": "python",
   "name": "python3"
  },
  "language_info": {
   "codemirror_mode": {
    "name": "ipython",
    "version": 3
   },
   "file_extension": ".py",
   "mimetype": "text/x-python",
   "name": "python",
   "nbconvert_exporter": "python",
   "pygments_lexer": "ipython3",
   "version": "3.9.15"
  }
 },
 "nbformat": 4,
 "nbformat_minor": 5
}
