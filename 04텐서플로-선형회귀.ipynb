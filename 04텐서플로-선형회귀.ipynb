{
 "cells": [
  {
   "cell_type": "markdown",
   "id": "7a5d3603-82a4-48ef-a1eb-07a2202f8e08",
   "metadata": {},
   "source": [
    "## 용어 정리\n",
    "* 함수 $y = ax + b$는 공부한 시간과 성적의 관계를 유추하기 위해 필요했던 식\n",
    "* 기울기 $a$는 변수 $x$에 어느 정도의 가중치를 곱하는지 결정하므로, **가중치(weight)** 라고 하며, $w$로 표시\n",
    "* 절편 $b$는 데이터의 특성에 따라 따로 부여되는 값이므로 **편향(bias)** 이라고 하며, $b$로 표시\n",
    "* $ H(x) = wx + b $\n",
    "* 평균 제곱 오차 -> 손실 함수(loss function)\n",
    "* 최적의 기울기와 절편을 찾기 위해 앞서 경사 하강법 -> 옵티마이저(optimizer)"
   ]
  },
  {
   "cell_type": "code",
   "execution_count": 1,
   "id": "4959d607-8248-4539-9864-acf4b167557c",
   "metadata": {},
   "outputs": [],
   "source": [
    "from tensorflow.keras.models import Sequential\n",
    "from tensorflow.keras.layers import Dense"
   ]
  },
  {
   "cell_type": "code",
   "execution_count": 2,
   "id": "1ff4c3c2-f0f3-4723-b25a-bdba0445c776",
   "metadata": {},
   "outputs": [],
   "source": [
    "import numpy as np\n",
    "import matplotlib.pyplot as plt"
   ]
  },
  {
   "cell_type": "code",
   "execution_count": 1,
   "id": "25c38bb0-e214-4893-929e-e250e2b07b19",
   "metadata": {},
   "outputs": [],
   "source": [
    "import os\n",
    "os.environ['KMP_DUPLICATE_LIB_OK']='True'"
   ]
  },
  {
   "cell_type": "markdown",
   "id": "3420b371-6c84-4564-82a3-7dc4add5d7b7",
   "metadata": {},
   "source": [
    "## 선형회귀"
   ]
  },
  {
   "cell_type": "code",
   "execution_count": 4,
   "id": "db1ebf2d-6aa3-4741-a344-15fe4ebfcec0",
   "metadata": {},
   "outputs": [],
   "source": [
    "x = np.array([2, 4, 6, 8])\n",
    "y = np.array([81, 93, 91, 97])"
   ]
  },
  {
   "cell_type": "code",
   "execution_count": 5,
   "id": "2313e8b9-3cc3-40d3-8c89-07c7962ec68e",
   "metadata": {},
   "outputs": [
    {
     "data": {
      "text/plain": [
       "<keras.callbacks.History at 0x1925e8db610>"
      ]
     },
     "execution_count": 5,
     "metadata": {},
     "output_type": "execute_result"
    }
   ],
   "source": [
    "model = Sequential()\n",
    "\n",
    "# 출력 값, 입력 변수, 분석 방법에 맞게끔 모델을 설정합니다.\n",
    "model.add(Dense(1, input_dim=1, activation='linear'))\n",
    "\n",
    "# 오차 수정을 위해 경사 하강법(sgd)을, 오차의 정도를 판단하기 위해\n",
    "# 평균 제곱 오차(mse)를 사용합니다.\n",
    "model.compile(optimizer='sgd', loss='mse')\n",
    "\n",
    "# 오차를 최소화하는 과정을 2000번 반복합니다.\n",
    "model.fit(x, y, epochs=2000, verbose=False)"
   ]
  },
  {
   "cell_type": "code",
   "execution_count": 6,
   "id": "a971243d-8a51-4842-a43c-fdb728fc7812",
   "metadata": {},
   "outputs": [
    {
     "name": "stdout",
     "output_type": "stream",
     "text": [
      "1/1 [==============================] - 0s 79ms/step\n"
     ]
    },
    {
     "data": {
      "image/png": "[encoded data removed]",
      "text/plain": [
       "<Figure size 640x480 with 1 Axes>"
      ]
     },
     "metadata": {},
     "output_type": "display_data"
    },
    {
     "name": "stdout",
     "output_type": "stream",
     "text": [
      "1/1 [==============================] - 0s 45ms/step\n",
      "7시간을 공부할 경우의 예상 점수는 95.12점입니다.\n"
     ]
    }
   ],
   "source": [
    "plt.scatter(x, y)\n",
    "plt.plot(x, model.predict(x), 'r')    # 예측 결과를 그래프로 나타냅니다.\n",
    "plt.show()\n",
    "\n",
    "# 임의의 시간을 집어넣어 점수를 예측하는 모델을 테스트해 보겠습니다.\n",
    "hour = 7\n",
    "prediction = model.predict([hour])\n",
    "print(\"%.f시간을 공부할 경우의 예상 점수는 %.02f점입니다.\" % (hour, prediction))"
   ]
  },
  {
   "cell_type": "markdown",
   "id": "e746e495-e20f-47c9-aad4-9bd0d0f63d02",
   "metadata": {},
   "source": [
    "## 다중선형회귀"
   ]
  },
  {
   "cell_type": "code",
   "execution_count": 7,
   "id": "68340ed0-7fd7-4ef3-bc31-a1be47b6e628",
   "metadata": {},
   "outputs": [],
   "source": [
    "x = np.array([[2, 0], [4, 4], [6, 2], [8, 3]])\n",
    "y = np.array([81, 93, 91, 97])"
   ]
  },
  {
   "cell_type": "code",
   "execution_count": 8,
   "id": "4a00ef40-2061-4c42-b1d0-be8acf82794a",
   "metadata": {},
   "outputs": [
    {
     "data": {
      "text/plain": [
       "<keras.callbacks.History at 0x192603dcd00>"
      ]
     },
     "execution_count": 8,
     "metadata": {},
     "output_type": "execute_result"
    }
   ],
   "source": [
    "model = Sequential()\n",
    "\n",
    "# 입력 변수가 두 개(학습 시간, 과외 시간)이므로 input_dim에 2를 입력합니다.\n",
    "model.add(Dense(1, input_dim=2, activation='linear'))\n",
    "model.compile(optimizer='sgd', loss='mse')\n",
    "\n",
    "model.fit(x, y, epochs=2000, verbose=False)"
   ]
  },
  {
   "cell_type": "code",
   "execution_count": 9,
   "id": "b326c134-9bfb-4d6e-9d25-77ba7eaadbe4",
   "metadata": {},
   "outputs": [
    {
     "name": "stdout",
     "output_type": "stream",
     "text": [
      "1/1 [==============================] - 0s 116ms/step\n",
      "7시간을 공부하고 4시간의 과외를 받을 경우, 예상 점수는 97.53점입니다.\n"
     ]
    }
   ],
   "source": [
    "# 임의의 학습 시간과 과외 시간을 집어넣어 점수를 예측하는 모델을 테스트해 보겠습니다.\n",
    "hour = 7\n",
    "private_class = 4\n",
    "prediction = model.predict([[hour, private_class]])\n",
    "\n",
    "print(\"%.f시간을 공부하고 %.f시간의 과외를 받을 경우, 예상 점수는 %.02f점입니다.\" % (hour, private_class, prediction))"
   ]
  },
  {
   "cell_type": "code",
   "execution_count": null,
   "id": "6dda4c40-790d-4edf-9042-adc2328cb843",
   "metadata": {},
   "outputs": [],
   "source": []
  }
 ],
 "metadata": {
  "kernelspec": {
   "display_name": "Python 3 (ipykernel)",
   "language": "python",
   "name": "python3"
  },
  "language_info": {
   "codemirror_mode": {
    "name": "ipython",
    "version": 3
   },
   "file_extension": ".py",
   "mimetype": "text/x-python",
   "name": "python",
   "nbconvert_exporter": "python",
   "pygments_lexer": "ipython3",
   "version": "3.9.15"
  }
 },
 "nbformat": 4,
 "nbformat_minor": 5
}
