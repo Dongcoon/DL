{
 "cells": [
  {
   "cell_type": "markdown",
   "id": "34ae70b3-e284-49fa-9f1b-535349d0ffa1",
   "metadata": {},
   "source": [
    "## 모델 성능 향상\n",
    "* 포도로 만든 와인은 고대 그리스 로마 시대부터 서양 음식의 기본이 된 오랜 양조주\n",
    "* 와인은 빛깔에 따라 맑고 투명한 화이트 와인과 붉은색을 띠는 레드 와인으로 구분\n",
    "    + 포르투갈 서북쪽 대서양과 맞닿아 있는 비뉴 베르드(Vinho Verde) 지방에서 만들어진 와인을 측정한 데이터\n",
    "* 레드 와인 샘플 1,599개를 등급과 맛, 산도를 측정해 분석하고 \n",
    "* 화이트 와인 샘플 4,898개를 마찬가지로 분석해 데이터를 만둚\n",
    "    + 레드 와인과 화이트 와인을 구분하는 실험"
   ]
  },
  {
   "cell_type": "markdown",
   "id": "6054f9bd-86af-4837-b2bc-eb8b3d55387d",
   "metadata": {},
   "source": [
    "## 탐색적 분석"
   ]
  },
  {
   "cell_type": "code",
   "execution_count": 1,
   "id": "215b224b-9fb0-4b3f-8170-237125d0f836",
   "metadata": {},
   "outputs": [],
   "source": [
    "import pandas as pd"
   ]
  },
  {
   "cell_type": "code",
   "execution_count": 2,
   "id": "a9866c9f-149d-4228-9fea-bdd2cf1e5d37",
   "metadata": {},
   "outputs": [
    {
     "data": {
      "text/html": [
       "<div>\n",
       "<style scoped>\n",
       "    .dataframe tbody tr th:only-of-type {\n",
       "        vertical-align: middle;\n",
       "    }\n",
       "\n",
       "    .dataframe tbody tr th {\n",
       "        vertical-align: top;\n",
       "    }\n",
       "\n",
       "    .dataframe thead th {\n",
       "        text-align: right;\n",
       "    }\n",
       "</style>\n",
       "<table border=\"1\" class=\"dataframe\">\n",
       "  <thead>\n",
       "    <tr style=\"text-align: right;\">\n",
       "      <th></th>\n",
       "      <th>0</th>\n",
       "      <th>1</th>\n",
       "      <th>2</th>\n",
       "      <th>3</th>\n",
       "      <th>4</th>\n",
       "      <th>5</th>\n",
       "      <th>6</th>\n",
       "      <th>7</th>\n",
       "      <th>8</th>\n",
       "      <th>9</th>\n",
       "      <th>10</th>\n",
       "      <th>11</th>\n",
       "      <th>12</th>\n",
       "    </tr>\n",
       "  </thead>\n",
       "  <tbody>\n",
       "    <tr>\n",
       "      <th>0</th>\n",
       "      <td>7.4</td>\n",
       "      <td>0.70</td>\n",
       "      <td>0.00</td>\n",
       "      <td>1.9</td>\n",
       "      <td>0.076</td>\n",
       "      <td>11.0</td>\n",
       "      <td>34.0</td>\n",
       "      <td>0.9978</td>\n",
       "      <td>3.51</td>\n",
       "      <td>0.56</td>\n",
       "      <td>9.4</td>\n",
       "      <td>5</td>\n",
       "      <td>1</td>\n",
       "    </tr>\n",
       "    <tr>\n",
       "      <th>1</th>\n",
       "      <td>7.8</td>\n",
       "      <td>0.88</td>\n",
       "      <td>0.00</td>\n",
       "      <td>2.6</td>\n",
       "      <td>0.098</td>\n",
       "      <td>25.0</td>\n",
       "      <td>67.0</td>\n",
       "      <td>0.9968</td>\n",
       "      <td>3.20</td>\n",
       "      <td>0.68</td>\n",
       "      <td>9.8</td>\n",
       "      <td>5</td>\n",
       "      <td>1</td>\n",
       "    </tr>\n",
       "    <tr>\n",
       "      <th>2</th>\n",
       "      <td>7.8</td>\n",
       "      <td>0.76</td>\n",
       "      <td>0.04</td>\n",
       "      <td>2.3</td>\n",
       "      <td>0.092</td>\n",
       "      <td>15.0</td>\n",
       "      <td>54.0</td>\n",
       "      <td>0.9970</td>\n",
       "      <td>3.26</td>\n",
       "      <td>0.65</td>\n",
       "      <td>9.8</td>\n",
       "      <td>5</td>\n",
       "      <td>1</td>\n",
       "    </tr>\n",
       "    <tr>\n",
       "      <th>3</th>\n",
       "      <td>11.2</td>\n",
       "      <td>0.28</td>\n",
       "      <td>0.56</td>\n",
       "      <td>1.9</td>\n",
       "      <td>0.075</td>\n",
       "      <td>17.0</td>\n",
       "      <td>60.0</td>\n",
       "      <td>0.9980</td>\n",
       "      <td>3.16</td>\n",
       "      <td>0.58</td>\n",
       "      <td>9.8</td>\n",
       "      <td>6</td>\n",
       "      <td>1</td>\n",
       "    </tr>\n",
       "    <tr>\n",
       "      <th>4</th>\n",
       "      <td>7.4</td>\n",
       "      <td>0.70</td>\n",
       "      <td>0.00</td>\n",
       "      <td>1.9</td>\n",
       "      <td>0.076</td>\n",
       "      <td>11.0</td>\n",
       "      <td>34.0</td>\n",
       "      <td>0.9978</td>\n",
       "      <td>3.51</td>\n",
       "      <td>0.56</td>\n",
       "      <td>9.4</td>\n",
       "      <td>5</td>\n",
       "      <td>1</td>\n",
       "    </tr>\n",
       "  </tbody>\n",
       "</table>\n",
       "</div>"
      ],
      "text/plain": [
       "     0     1     2    3      4     5     6       7     8     9    10  11  12\n",
       "0   7.4  0.70  0.00  1.9  0.076  11.0  34.0  0.9978  3.51  0.56  9.4   5   1\n",
       "1   7.8  0.88  0.00  2.6  0.098  25.0  67.0  0.9968  3.20  0.68  9.8   5   1\n",
       "2   7.8  0.76  0.04  2.3  0.092  15.0  54.0  0.9970  3.26  0.65  9.8   5   1\n",
       "3  11.2  0.28  0.56  1.9  0.075  17.0  60.0  0.9980  3.16  0.58  9.8   6   1\n",
       "4   7.4  0.70  0.00  1.9  0.076  11.0  34.0  0.9978  3.51  0.56  9.4   5   1"
      ]
     },
     "execution_count": 2,
     "metadata": {},
     "output_type": "execute_result"
    }
   ],
   "source": [
    "# 와인 데이터를 불러옵니다.\n",
    "df = pd.read_csv('data/rw_wine.csv', header=None)\n",
    "\n",
    "# 데이터를 미리 보겠습니다.\n",
    "# 주석산 농도, 아세트산 농도 구연산 농도 잔류 당분 농도\n",
    "# 염화나트륨 농도 유리 아황산 농도 총 아황산 농도 밀도 pH\n",
    "# 황산칼륨 농도 알코올 도수 와인의 맛(0~10등급)\n",
    "# 클래스(1: 레드 와인, 0: 화이트 와인)\n",
    "df.head()"
   ]
  },
  {
   "cell_type": "code",
   "execution_count": 3,
   "id": "9f482d64-7f9d-46a9-ae90-36070f92ea8f",
   "metadata": {},
   "outputs": [],
   "source": [
    "# 0~11번째 열에 해당하는 속성 12개를 X로, 13번째 열을 y로 정하겠습니다.\n",
    "X = df.iloc[:,0:12]\n",
    "y = df.iloc[:,12]"
   ]
  },
  {
   "cell_type": "markdown",
   "id": "a32cea2a-4dc5-42a4-9337-5e2fe6549cff",
   "metadata": {},
   "source": [
    "## 데이터 분석"
   ]
  },
  {
   "cell_type": "code",
   "execution_count": 4,
   "id": "bd10fcd7-98e8-4eaf-9443-87a3027987b8",
   "metadata": {},
   "outputs": [
    {
     "name": "stderr",
     "output_type": "stream",
     "text": [
      "C:\\Java\\miniconda3\\envs\\.py39\\lib\\site-packages\\scipy\\__init__.py:138: UserWarning: A NumPy version >=1.16.5 and <1.23.0 is required for this version of SciPy (detected version 1.23.5)\n",
      "  warnings.warn(f\"A NumPy version >={np_minversion} and <{np_maxversion} is required for this version of \"\n"
     ]
    }
   ],
   "source": [
    "from tensorflow.keras.models import Sequential\n",
    "from tensorflow.keras.layers import Dense\n",
    "from sklearn.model_selection import train_test_split"
   ]
  },
  {
   "cell_type": "code",
   "execution_count": 5,
   "id": "744f167d-67cd-41aa-aa98-16579b4b65e6",
   "metadata": {},
   "outputs": [
    {
     "name": "stdout",
     "output_type": "stream",
     "text": [
      "Model: \"sequential\"\n",
      "_________________________________________________________________\n",
      " Layer (type)                Output Shape              Param #   \n",
      "=================================================================\n",
      " dense (Dense)               (None, 30)                390       \n",
      "                                                                 \n",
      " dense_1 (Dense)             (None, 12)                372       \n",
      "                                                                 \n",
      " dense_2 (Dense)             (None, 8)                 104       \n",
      "                                                                 \n",
      " dense_3 (Dense)             (None, 1)                 9         \n",
      "                                                                 \n",
      "=================================================================\n",
      "Total params: 875\n",
      "Trainable params: 875\n",
      "Non-trainable params: 0\n",
      "_________________________________________________________________\n"
     ]
    }
   ],
   "source": [
    "# 학습셋과 테스트셋으로 나눕니다.\n",
    "X_train, X_test, y_train, y_test = train_test_split(X, y, test_size=0.2, shuffle=True)\n",
    "\n",
    "# 모델 구조를 설정합니다.\n",
    "model = Sequential()\n",
    "model.add(Dense(30, input_dim=12, activation='relu'))\n",
    "model.add(Dense(12, activation='relu'))\n",
    "model.add(Dense(8, activation='relu'))\n",
    "model.add(Dense(1, activation='sigmoid'))\n",
    "model.summary()"
   ]
  },
  {
   "cell_type": "code",
   "execution_count": 6,
   "id": "e830b50d-ecdb-4a7c-bb5b-83b31fb3e5bd",
   "metadata": {},
   "outputs": [],
   "source": [
    "# 모델을 컴파일합니다.\n",
    "model.compile(loss='binary_crossentropy', optimizer='adam', \n",
    "metrics=['accuracy'])"
   ]
  },
  {
   "cell_type": "code",
   "execution_count": 7,
   "id": "6d0dcac8-db08-4073-b10e-81889e43c3de",
   "metadata": {},
   "outputs": [
    {
     "name": "stderr",
     "output_type": "stream",
     "text": [
      "C:\\Users\\LG PC\\AppData\\Roaming\\Python\\Python39\\site-packages\\keras\\engine\\data_adapter.py:1696: FutureWarning: The behavior of `series[i:j]` with an integer-dtype index is deprecated. In a future version, this will be treated as *label-based* indexing, consistent with e.g. `series[i]` lookups. To retain the old behavior, use `series.iloc[i:j]`. To get the future behavior, use `series.loc[i:j]`.\n",
      "  return t[start:end]\n"
     ]
    }
   ],
   "source": [
    "# 모델을 실행합니다.\n",
    "history = model.fit(X_train, y_train, epochs=50, batch_size=500, \n",
    "validation_split=0.25, verbose=False) # 0.8 x 0.25 = 0.2"
   ]
  },
  {
   "cell_type": "code",
   "execution_count": 8,
   "id": "f6d7423b-f4e8-4c00-8540-1a7e8313e558",
   "metadata": {},
   "outputs": [
    {
     "name": "stdout",
     "output_type": "stream",
     "text": [
      "41/41 [==============================] - 0s 1ms/step - loss: 0.1656 - accuracy: 0.9362\n",
      "Test accuracy: 0.9361538290977478\n"
     ]
    }
   ],
   "source": [
    "# 테스트 결과를 출력합니다.\n",
    "score = model.evaluate(X_test, y_test)\n",
    "print('Test accuracy:', score[1])"
   ]
  },
  {
   "cell_type": "markdown",
   "id": "f0cfde36-d5ed-435c-bc8d-4de6f9cc3e51",
   "metadata": {},
   "source": [
    "## 모델 업데이트하기\n",
    "* 만일 50번의 에포크 중 최적의 학습이 40번째에 이루어졌다면, \n",
    "* 어떻게 해서 40번째 모델을 불러와 사용할 수 있을까요?"
   ]
  },
  {
   "cell_type": "code",
   "execution_count": 37,
   "id": "818dc666-c3fd-41f4-ae84-42f9b492da9a",
   "metadata": {},
   "outputs": [
    {
     "name": "stderr",
     "output_type": "stream",
     "text": [
      "C:\\Users\\LG PC\\AppData\\Roaming\\Python\\Python39\\site-packages\\keras\\engine\\data_adapter.py:1696: FutureWarning: The behavior of `series[i:j]` with an integer-dtype index is deprecated. In a future version, this will be treated as *label-based* indexing, consistent with e.g. `series[i]` lookups. To retain the old behavior, use `series.iloc[i:j]`. To get the future behavior, use `series.loc[i:j]`.\n",
      "  return t[start:end]\n"
     ]
    },
    {
     "name": "stdout",
     "output_type": "stream",
     "text": [
      "41/41 [==============================] - 0s 1ms/step - loss: 0.0772 - accuracy: 0.9838\n",
      "Test accuracy: 0.983846127986908\n"
     ]
    }
   ],
   "source": [
    "from tensorflow.keras.callbacks import ModelCheckpoint\n",
    "\n",
    "modelpath = \"./data/model/all/{epoch:02d}-{val_accuracy:.4f}.hdf5\"\n",
    "\n",
    "# 학습 중인 모델을 저장하는 함수는 케라스 API의 ModelCheckpoint()\n",
    "checkpointer = ModelCheckpoint(filepath=modelpath, verbose=0)\n",
    "\n",
    "# 모델을 실행합니다. - .8로 나눈 데이터셋을 .75 와 .25로 나눈후 학습과 검증 실행\n",
    "history = model.fit(X_train, y_train, epochs=50, batch_size=500, \n",
    "validation_split=0.25, verbose=0, callbacks=[checkpointer])\n",
    "\n",
    "# 테스트 결과를 출력합니다.\n",
    "score = model.evaluate(X_test, y_test)\n",
    "print('Test accuracy:', score[1])"
   ]
  },
  {
   "cell_type": "markdown",
   "id": "419c85b7-8afd-4ff4-aff9-7c3acfe0036d",
   "metadata": {},
   "source": [
    "## 그래프로 과적합 확인\n",
    "* 학습의 반복 횟수가 너무 적으면 데이터셋의 패턴을 충분히 파악하지 못합니다. \n",
    "* 하지만 학습을 너무 많이 반복하는 것도 좋지 않습니다. \n",
    "* 적절한 학습 횟수를 정하기 위해서는 검증셋과 테스트셋의 결과를 \n",
    "  그래프로 보는 것이 가장 좋습니다"
   ]
  },
  {
   "cell_type": "code",
   "execution_count": 38,
   "id": "36a2ade5-b2c4-4a02-9d0e-0d11887304d2",
   "metadata": {},
   "outputs": [
    {
     "name": "stderr",
     "output_type": "stream",
     "text": [
      "C:\\Users\\LG PC\\AppData\\Roaming\\Python\\Python39\\site-packages\\keras\\engine\\data_adapter.py:1696: FutureWarning: The behavior of `series[i:j]` with an integer-dtype index is deprecated. In a future version, this will be treated as *label-based* indexing, consistent with e.g. `series[i]` lookups. To retain the old behavior, use `series.iloc[i:j]`. To get the future behavior, use `series.loc[i:j]`.\n",
      "  return t[start:end]\n"
     ]
    }
   ],
   "source": [
    "# loss는 학습을 통해 구한 예측 값과 실제 값의 차이(=오차)를 의미하고 \n",
    "# accuracy는 전체 샘플 중에서 정답을 맞춘 샘플이 몇 개인지의 비율(=정확도)을 의미하지요.\n",
    "# 검증셋을 지정하면 val_loss가 함께 출력됩니다. \n",
    "# 이때 metrics를 accuracy로 지정하면 accuracy와 함께 val_accuracy 값도 출력됩니다. \n",
    "# val_loss는 학습한 모델을 검증셋에 적용해 얻은 오차이고, \n",
    "# val_accuracy는 검증셋으로 얻은 정확도\n",
    "\n",
    "history = model.fit(X_train, y_train, epochs=1000, \n",
    "                    batch_size=500, validation_split=0.25, verbose=False)"
   ]
  },
  {
   "cell_type": "code",
   "execution_count": 39,
   "id": "ad6f60cf-52ae-4b51-b12f-fa8267dfd079",
   "metadata": {},
   "outputs": [
    {
     "data": {
      "text/html": [
       "<div>\n",
       "<style scoped>\n",
       "    .dataframe tbody tr th:only-of-type {\n",
       "        vertical-align: middle;\n",
       "    }\n",
       "\n",
       "    .dataframe tbody tr th {\n",
       "        vertical-align: top;\n",
       "    }\n",
       "\n",
       "    .dataframe thead th {\n",
       "        text-align: right;\n",
       "    }\n",
       "</style>\n",
       "<table border=\"1\" class=\"dataframe\">\n",
       "  <thead>\n",
       "    <tr style=\"text-align: right;\">\n",
       "      <th></th>\n",
       "      <th>loss</th>\n",
       "      <th>accuracy</th>\n",
       "      <th>val_loss</th>\n",
       "      <th>val_accuracy</th>\n",
       "    </tr>\n",
       "  </thead>\n",
       "  <tbody>\n",
       "    <tr>\n",
       "      <th>0</th>\n",
       "      <td>0.012900</td>\n",
       "      <td>0.995381</td>\n",
       "      <td>0.082630</td>\n",
       "      <td>0.984615</td>\n",
       "    </tr>\n",
       "    <tr>\n",
       "      <th>1</th>\n",
       "      <td>0.014647</td>\n",
       "      <td>0.993841</td>\n",
       "      <td>0.079772</td>\n",
       "      <td>0.985385</td>\n",
       "    </tr>\n",
       "    <tr>\n",
       "      <th>2</th>\n",
       "      <td>0.013976</td>\n",
       "      <td>0.994098</td>\n",
       "      <td>0.087589</td>\n",
       "      <td>0.986154</td>\n",
       "    </tr>\n",
       "    <tr>\n",
       "      <th>3</th>\n",
       "      <td>0.016085</td>\n",
       "      <td>0.993841</td>\n",
       "      <td>0.078611</td>\n",
       "      <td>0.985385</td>\n",
       "    </tr>\n",
       "    <tr>\n",
       "      <th>4</th>\n",
       "      <td>0.012495</td>\n",
       "      <td>0.995124</td>\n",
       "      <td>0.081081</td>\n",
       "      <td>0.985385</td>\n",
       "    </tr>\n",
       "  </tbody>\n",
       "</table>\n",
       "</div>"
      ],
      "text/plain": [
       "       loss  accuracy  val_loss  val_accuracy\n",
       "0  0.012900  0.995381  0.082630      0.984615\n",
       "1  0.014647  0.993841  0.079772      0.985385\n",
       "2  0.013976  0.994098  0.087589      0.986154\n",
       "3  0.016085  0.993841  0.078611      0.985385\n",
       "4  0.012495  0.995124  0.081081      0.985385"
      ]
     },
     "execution_count": 39,
     "metadata": {},
     "output_type": "execute_result"
    }
   ],
   "source": [
    "# history는 model.fit()의 결과를 가진 파이썬 객체로, \n",
    "# history.params에는 model.fit()의 설정 값들이, \n",
    "# history.epoch에는 에포크 정보\n",
    "# 우리에게 필요한 loss, accuracy, val_loss, val_accuracy는 \n",
    "# history.history에 들어 있습니다\n",
    "hist_df = pd.DataFrame(history.history)\n",
    "hist_df.head()"
   ]
  },
  {
   "cell_type": "code",
   "execution_count": 40,
   "id": "a6454b7c-df32-45c6-809e-c2ef908090c1",
   "metadata": {},
   "outputs": [],
   "source": [
    "# 학습한 모델을 검증셋에 적용해 얻은 오차(val_loss)는 y_vloss에 저장하고 \n",
    "# 학습셋에서 얻은 오차(loss)는 y_loss에 저장\n",
    "y_vloss = hist_df['val_loss']\n",
    "y_loss = hist_df['loss']"
   ]
  },
  {
   "cell_type": "code",
   "execution_count": 41,
   "id": "c890a47d-7ebe-4987-8a34-acebae334d88",
   "metadata": {
    "tags": []
   },
   "outputs": [
    {
     "data": {
      "image/png": "[encoded data removed]",
      "text/plain": [
       "<Figure size 640x480 with 1 Axes>"
      ]
     },
     "metadata": {},
     "output_type": "display_data"
    }
   ],
   "source": [
    "# 학습셋에서 얻은 오차는 빨간색으로, 검증셋에서 얻은 오차는 파란색으로 표시\n",
    "# 학습이 오래 진행될수록 검증셋의 오차(파란색)는 줄어들지만 \n",
    "# 테스트셋의 오차(빨간색)는 다시 커진다는 것입니다. \n",
    "# 이는 과도한 학습으로 과적합이 발생했기 때문입니다. \n",
    "# 이러한 사실을 통해 알 수 있는 것은 검증셋 오차가 커지기 직전까지 \n",
    "# 학습한 모델이 최적의 횟수로 학습한 모델\n",
    "\n",
    "import numpy as np\n",
    "import matplotlib.pyplot as plt\n",
    "\n",
    "x_len = np.arange(len(y_loss))\n",
    "plt.plot(x_len, y_vloss, \"o\", c=\"red\", markersize=2, label='Testset_loss')\n",
    "plt.plot(x_len, y_loss, \"o\", c=\"blue\", markersize=2, label='Trainset_loss')\n",
    "\n",
    "plt.legend(loc='upper right')\n",
    "plt.xlabel('epoch')\n",
    "plt.ylabel('loss')\n",
    "plt.show()"
   ]
  },
  {
   "cell_type": "code",
   "execution_count": 42,
   "id": "d4d83faa-71d9-4c4a-bc55-b61a52c3b60a",
   "metadata": {},
   "outputs": [],
   "source": [
    "y_vacc = hist_df['val_accuracy']\n",
    "y_acc = hist_df['accuracy']"
   ]
  },
  {
   "cell_type": "code",
   "execution_count": 43,
   "id": "f12c68c0-18f2-45b8-b966-e69e42a3f822",
   "metadata": {},
   "outputs": [
    {
     "data": {
      "image/png": "[encoded data removed]",
      "text/plain": [
       "<Figure size 640x480 with 1 Axes>"
      ]
     },
     "metadata": {},
     "output_type": "display_data"
    }
   ],
   "source": [
    "# 학습셋에서 얻은 오차는 빨간색으로, 검증셋에서 얻은 오차는 파란색으로 표시\n",
    "# 학습이 오래 진행될수록 검증셋의 오차(파란색)는 줄어들지만 \n",
    "# 테스트셋의 오차(빨간색)는 다시 커진다는 것입니다. \n",
    "# 이는 과도한 학습으로 과적합이 발생했기 때문입니다. \n",
    "# 이러한 사실을 통해 알 수 있는 것은 검증셋 오차가 커지기 직전까지 \n",
    "# 학습한 모델이 최적의 횟수로 학습한 모델\n",
    "\n",
    "x_len = np.arange(len(y_acc))\n",
    "plt.plot(x_len, y_vacc, \"o\", c=\"red\", markersize=2, label='Testset_acc')\n",
    "plt.plot(x_len, y_acc, \"o\", c=\"blue\", markersize=2, label='Trainset_acc')\n",
    "\n",
    "plt.legend(loc='upper right')\n",
    "plt.xlabel('epoch')\n",
    "plt.ylabel('accuracy')\n",
    "plt.show()"
   ]
  },
  {
   "cell_type": "markdown",
   "id": "aec05b96-2d02-4a14-aac5-8b236ff1ec0a",
   "metadata": {},
   "source": [
    "## 학습의 자동 중단\n",
    "* 텐서플로에 포함된 케라스 API는 EarlyStopping() 함수를 제공합니다. \n",
    "* 학습이 진행되어도 테스트셋 오차가 줄어들지 않으면 학습을 자동으로 멈추게 하는 함수"
   ]
  },
  {
   "cell_type": "code",
   "execution_count": 46,
   "id": "b29cd044-0e6e-412a-8056-ae2061a084c7",
   "metadata": {
    "collapsed": true,
    "jupyter": {
     "outputs_hidden": true
    },
    "tags": []
   },
   "outputs": [
    {
     "name": "stdout",
     "output_type": "stream",
     "text": [
      "Epoch 1/2000\n",
      "1/8 [==>...........................] - ETA: 0s - loss: 0.0069 - accuracy: 0.9980"
     ]
    },
    {
     "name": "stderr",
     "output_type": "stream",
     "text": [
      "C:\\Users\\LG PC\\AppData\\Roaming\\Python\\Python39\\site-packages\\keras\\engine\\data_adapter.py:1696: FutureWarning: The behavior of `series[i:j]` with an integer-dtype index is deprecated. In a future version, this will be treated as *label-based* indexing, consistent with e.g. `series[i]` lookups. To retain the old behavior, use `series.iloc[i:j]`. To get the future behavior, use `series.loc[i:j]`.\n",
      "  return t[start:end]\n"
     ]
    },
    {
     "name": "stdout",
     "output_type": "stream",
     "text": [
      "8/8 [==============================] - 0s 20ms/step - loss: 0.0098 - accuracy: 0.9964 - val_loss: 0.0907 - val_accuracy: 0.9869\n",
      "Epoch 2/2000\n",
      "8/8 [==============================] - 0s 8ms/step - loss: 0.0091 - accuracy: 0.9972 - val_loss: 0.0918 - val_accuracy: 0.9862\n",
      "Epoch 3/2000\n",
      "8/8 [==============================] - 0s 7ms/step - loss: 0.0088 - accuracy: 0.9969 - val_loss: 0.0934 - val_accuracy: 0.9869\n",
      "Epoch 4/2000\n",
      "8/8 [==============================] - 0s 13ms/step - loss: 0.0093 - accuracy: 0.9964 - val_loss: 0.0881 - val_accuracy: 0.9877\n",
      "Epoch 5/2000\n",
      "8/8 [==============================] - 0s 7ms/step - loss: 0.0092 - accuracy: 0.9977 - val_loss: 0.0898 - val_accuracy: 0.9869\n",
      "Epoch 6/2000\n",
      "8/8 [==============================] - 0s 10ms/step - loss: 0.0085 - accuracy: 0.9964 - val_loss: 0.0934 - val_accuracy: 0.9854\n",
      "Epoch 7/2000\n",
      "8/8 [==============================] - 0s 7ms/step - loss: 0.0090 - accuracy: 0.9967 - val_loss: 0.0894 - val_accuracy: 0.9862\n",
      "Epoch 8/2000\n",
      "8/8 [==============================] - 0s 8ms/step - loss: 0.0097 - accuracy: 0.9969 - val_loss: 0.0937 - val_accuracy: 0.9877\n",
      "Epoch 9/2000\n",
      "8/8 [==============================] - 0s 13ms/step - loss: 0.0116 - accuracy: 0.9959 - val_loss: 0.0867 - val_accuracy: 0.9869\n",
      "Epoch 10/2000\n",
      "8/8 [==============================] - 0s 7ms/step - loss: 0.0121 - accuracy: 0.9959 - val_loss: 0.0946 - val_accuracy: 0.9831\n",
      "Epoch 11/2000\n",
      "8/8 [==============================] - 0s 8ms/step - loss: 0.0137 - accuracy: 0.9956 - val_loss: 0.0890 - val_accuracy: 0.9869\n",
      "Epoch 12/2000\n",
      "8/8 [==============================] - 0s 7ms/step - loss: 0.0118 - accuracy: 0.9956 - val_loss: 0.0916 - val_accuracy: 0.9862\n",
      "Epoch 13/2000\n",
      "8/8 [==============================] - 0s 8ms/step - loss: 0.0092 - accuracy: 0.9974 - val_loss: 0.0924 - val_accuracy: 0.9869\n",
      "Epoch 14/2000\n",
      "8/8 [==============================] - 0s 8ms/step - loss: 0.0097 - accuracy: 0.9969 - val_loss: 0.0921 - val_accuracy: 0.9869\n",
      "Epoch 15/2000\n",
      "8/8 [==============================] - 0s 9ms/step - loss: 0.0096 - accuracy: 0.9959 - val_loss: 0.0907 - val_accuracy: 0.9862\n",
      "Epoch 16/2000\n",
      "8/8 [==============================] - 0s 8ms/step - loss: 0.0088 - accuracy: 0.9972 - val_loss: 0.0883 - val_accuracy: 0.9869\n",
      "Epoch 17/2000\n",
      "8/8 [==============================] - 0s 7ms/step - loss: 0.0101 - accuracy: 0.9967 - val_loss: 0.0904 - val_accuracy: 0.9854\n",
      "Epoch 18/2000\n",
      "8/8 [==============================] - 0s 7ms/step - loss: 0.0106 - accuracy: 0.9969 - val_loss: 0.0881 - val_accuracy: 0.9854\n",
      "Epoch 19/2000\n",
      "8/8 [==============================] - 0s 7ms/step - loss: 0.0101 - accuracy: 0.9967 - val_loss: 0.0916 - val_accuracy: 0.9869\n",
      "Epoch 20/2000\n",
      "8/8 [==============================] - 0s 7ms/step - loss: 0.0121 - accuracy: 0.9967 - val_loss: 0.0935 - val_accuracy: 0.9869\n",
      "Epoch 21/2000\n",
      "8/8 [==============================] - 0s 7ms/step - loss: 0.0113 - accuracy: 0.9967 - val_loss: 0.0909 - val_accuracy: 0.9869\n",
      "Epoch 22/2000\n",
      "8/8 [==============================] - 0s 7ms/step - loss: 0.0100 - accuracy: 0.9964 - val_loss: 0.0896 - val_accuracy: 0.9862\n",
      "Epoch 23/2000\n",
      "8/8 [==============================] - 0s 8ms/step - loss: 0.0089 - accuracy: 0.9979 - val_loss: 0.0940 - val_accuracy: 0.9862\n",
      "Epoch 24/2000\n",
      "8/8 [==============================] - 0s 8ms/step - loss: 0.0095 - accuracy: 0.9972 - val_loss: 0.0938 - val_accuracy: 0.9869\n",
      "Epoch 25/2000\n",
      "8/8 [==============================] - 0s 7ms/step - loss: 0.0093 - accuracy: 0.9974 - val_loss: 0.0886 - val_accuracy: 0.9862\n",
      "Epoch 26/2000\n",
      "8/8 [==============================] - 0s 7ms/step - loss: 0.0092 - accuracy: 0.9967 - val_loss: 0.0928 - val_accuracy: 0.9862\n",
      "Epoch 27/2000\n",
      "8/8 [==============================] - 0s 8ms/step - loss: 0.0101 - accuracy: 0.9962 - val_loss: 0.0921 - val_accuracy: 0.9862\n",
      "Epoch 28/2000\n",
      "8/8 [==============================] - 0s 8ms/step - loss: 0.0091 - accuracy: 0.9972 - val_loss: 0.0902 - val_accuracy: 0.9862\n",
      "Epoch 29/2000\n",
      "8/8 [==============================] - 0s 7ms/step - loss: 0.0093 - accuracy: 0.9974 - val_loss: 0.0926 - val_accuracy: 0.9877\n"
     ]
    }
   ],
   "source": [
    "from tensorflow.keras.callbacks import ModelCheckpoint, EarlyStopping\n",
    "\n",
    "# 학습이 언제 자동 중단될지 설정합니다.\n",
    "# monitor 옵션은 model.fit()의 실행 결과 중 어떤 것을 이용할지 정합니다. \n",
    "# 검증셋의 오차(val_loss)로 지정\n",
    "# patience 옵션은 지정된 값이 몇 번 이상 향상되지 않으면 학습을 종료시킬지 정합\n",
    "early_stopping_callback = EarlyStopping(monitor='val_loss', patience=20)\n",
    "\n",
    "# 최적화 모델이 저장될 폴더와 모델 이름을 정합니다.\n",
    "modelpath = \"data/model/Ch14-4-bestmodel.hdf5\"\n",
    "\n",
    "# 최적화 모델을 업데이트하고 저장합니다.\n",
    "# 최고의 모델 하나만 저장\n",
    "checkpointer = ModelCheckpoint(filepath=modelpath, monitor='val_loss', verbose=0, save_best_only=True)\n",
    "\n",
    "# 모델을 실행합니다.\n",
    "history = model.fit(X_train, y_train, epochs=2000, batch_size=500, \n",
    "                    validation_split=0.25, verbose=1, callbacks=[early_stopping_callback, checkpointer])"
   ]
  },
  {
   "cell_type": "code",
   "execution_count": 47,
   "id": "dbec1182-f160-4c55-bb04-91a7796ffb5e",
   "metadata": {},
   "outputs": [
    {
     "data": {
      "text/plain": [
       "29"
      ]
     },
     "execution_count": 47,
     "metadata": {},
     "output_type": "execute_result"
    }
   ],
   "source": [
    "len(history.history['accuracy'])"
   ]
  },
  {
   "cell_type": "code",
   "execution_count": 48,
   "id": "32a5ec22-756a-4855-8388-c790b18a2a21",
   "metadata": {},
   "outputs": [
    {
     "name": "stdout",
     "output_type": "stream",
     "text": [
      "41/41 [==============================] - 0s 2ms/step - loss: 0.0893 - accuracy: 0.9854\n",
      "Test accuracy: 0.9853846430778503\n"
     ]
    }
   ],
   "source": [
    "score = model.evaluate(X_test, y_test)\n",
    "print('Test accuracy:', score[1])"
   ]
  },
  {
   "cell_type": "code",
   "execution_count": null,
   "id": "b17136cf-4944-4a73-8cba-9e70869bee3b",
   "metadata": {},
   "outputs": [],
   "source": []
  }
 ],
 "metadata": {
  "kernelspec": {
   "display_name": "Python 3 (ipykernel)",
   "language": "python",
   "name": "python3"
  },
  "language_info": {
   "codemirror_mode": {
    "name": "ipython",
    "version": 3
   },
   "file_extension": ".py",
   "mimetype": "text/x-python",
   "name": "python",
   "nbconvert_exporter": "python",
   "pygments_lexer": "ipython3",
   "version": "3.9.15"
  }
 },
 "nbformat": 4,
 "nbformat_minor": 5
}
