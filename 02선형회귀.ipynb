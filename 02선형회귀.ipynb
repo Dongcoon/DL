{
 "cells": [
  {
   "cell_type": "markdown",
   "metadata": {
    "pycharm": {
     "name": "#%% md\n"
    }
   },
   "source": [
    "## 머신러닝 기본 개념\n",
    "* 함수란 두 집합 사이의 관계를 설명하는 수학 개념입니다.\n",
    "    + 변수 x와 y가 있을 때, x가 변하면 이에 따라 y는 어떤 규칙으로 변하는지 나타냅니다.\n",
    "    + 일차 함수는 y가 x에 관한 일차식으로 표현된 경우를 의미\n",
    "* 일차 함수식 y = ax + b에서 a는 기울기, b는 절편이라고 합니다.\n",
    "    + 기울기는 기울어진 정도를 의미하는데, x 값이 증가할 때 y 값이 어느 정도 증가하는지에 따라 정해짐\n",
    "    + 절편은 그래프가 축과 만나는 지점을 의미\n",
    "* x가 주어지고 원하는 y 값이 있을 때 적절한 a와 b를 찾는 것 - 머신러닝 핵심\n",
    "* 이차 함수란 y가 x에 관한 이차식으로 표현되는 경우를 의미 - $ y = ax^2 $\n",
    "* y = ax2의 그래프를 x축 방향으로 p만큼, y축 방향으로 q만큼 평행 이동시키면\n",
    "  점 p와 q를 꼭짓점으로 하는 포물선이 되겠지요\n",
    "    + 포물선의 맨 아래에 위치한 지점이 최솟값이 되는데, 딥러닝을 실행할 때는 이 최솟값을 찾아내는 과정이 매우 중요\n",
    "    + 이 최솟값은 4장에 소개할 ‘최소 제곱법’ 공식으로 쉽게 알아낼 수 있습니다\n",
    "    + 러닝을 실제로 실행할 때 만나는 문제에서는 대부분 최소 제곱법을 활용할 수가 없습\n",
    "    + 따라서 미분과 기울기를 이용\n",
    "* 미분, 순간 변화율과 미분계수, 기울기\n",
    "* 편미분 - 여러 가지 변수가 식 안에 있을 때, 모든 변수를 미분하는 것이 아니라 우리가 원하는 한 가지 변수만 미분하고 그 외에는 모두 상수로 취급하는 것\n",
    "* 지수와 지수 함수, 시그모이드 함수, 로그와 로그 함수"
   ]
  },
  {
   "cell_type": "markdown",
   "metadata": {
    "pycharm": {
     "name": "#%% md\n"
    }
   },
   "source": [
    "## 가장 훌륭한 예측선 - 선형회귀\n",
    "* 독립적으로 변할 수 있는 값 x를 독립 변수(feature)라고 합니다.\n",
    "* 이 독립 변수에 따라 종속적으로 변하는 y를 종속 변수(label)라고 합니다.\n",
    "* 선형 회귀란 독립 변수 x를 사용해 종속 변수 y의 움직임을 예측하고 설명하는 작업\n",
    "* 하나의 x 값만으로도 y 값을 설명할 수 있다면 단순 선형 회귀(simple linear regression)라고 합니다.\n",
    "* 또한, x 값이 여러 개 필요하다면 다중 선형 회귀(multiple linear regression)라고 합니다."
   ]
  },
  {
   "cell_type": "markdown",
   "metadata": {},
   "source": [
    "# 최소제곱법"
   ]
  },
  {
   "cell_type": "code",
   "execution_count": 1,
   "metadata": {},
   "outputs": [],
   "source": [
    "import numpy as np"
   ]
  },
  {
   "cell_type": "code",
   "execution_count": 2,
   "metadata": {
    "collapsed": false,
    "jupyter": {
     "outputs_hidden": false
    },
    "pycharm": {
     "name": "#%%\n"
    }
   },
   "outputs": [],
   "source": [
    "# 공부한 시간과 중간고사 성적 데이터\n",
    "# 공부한 시간 2시간 4시간 6시간 8시간\n",
    "# 성적 81점 93점 91점 97점\n",
    "\n",
    "x = np.array([2, 4, 6, 8])\n",
    "y = np.array([81, 93, 91, 97])"
   ]
  },
  {
   "cell_type": "code",
   "execution_count": 3,
   "metadata": {
    "collapsed": false,
    "jupyter": {
     "outputs_hidden": false
    },
    "pycharm": {
     "name": "#%%\n"
    }
   },
   "outputs": [],
   "source": [
    "# x, y의 평균값을 구합니다.\n",
    "mx = np.mean(x)\n",
    "my = np.mean(y)"
   ]
  },
  {
   "cell_type": "code",
   "execution_count": 4,
   "metadata": {},
   "outputs": [],
   "source": [
    "# 기울기 공식의 분모 부분입니다.\n",
    "divisor = sum([(i - mx)**2 for i in x])"
   ]
  },
  {
   "cell_type": "code",
   "execution_count": 5,
   "metadata": {},
   "outputs": [],
   "source": [
    "# 기울기 공식의 분자 부분입니다.\n",
    "def top(x, mx, y, my):\n",
    "    d = 0\n",
    "    for i in range(len(x)):\n",
    "        d += (x[i] - mx) * (y[i] - my)\n",
    "    return d\n",
    "dividend = top(x, mx, y, my)"
   ]
  },
  {
   "cell_type": "code",
   "execution_count": 6,
   "metadata": {},
   "outputs": [
    {
     "data": {
      "text/plain": [
       "(2.3, 79.0)"
      ]
     },
     "execution_count": 6,
     "metadata": {},
     "output_type": "execute_result"
    }
   ],
   "source": [
    "# 기울기 a를 구하는 공식입니다.\n",
    "a = dividend / divisor\n",
    "\n",
    "# y 절편 b를 구하는 공식입니다.\n",
    "b = my - (mx*a)\n",
    "\n",
    "a, b"
   ]
  },
  {
   "cell_type": "markdown",
   "metadata": {},
   "source": [
    "# 평균 제곱 오차(Mean Square Error, MSE)\n",
    "* 오차 = 실제 값 - 예측 값\n",
    "* 그래프의 기울기가 잘못되었을수록 빨간색 선의 거리의 합, 즉 오차의 합도 커집니다\n",
    "* 만일 기울기가 무한대로 커지면 오차도 무한대로 커지는 상관관계가 있는 것을 알 수 있\n",
    "* 선형 회귀란 임의의 직선을 그어 이에 대한 평균 제곱 오차를 구하고, 이 값을 가장 작게 만들어 주는 a 값과 b 값을 찾아가는 작업"
   ]
  },
  {
   "cell_type": "code",
   "execution_count": 7,
   "metadata": {},
   "outputs": [
    {
     "name": "stdout",
     "output_type": "stream",
     "text": [
      "공부시간=2, 실제점수=81, 예측점수=82\n",
      "공부시간=4, 실제점수=93, 예측점수=88\n",
      "공부시간=6, 실제점수=91, 예측점수=94\n",
      "공부시간=8, 실제점수=97, 예측점수=100\n",
      "평균 제곱 오차: 11.0\n"
     ]
    }
   ],
   "source": [
    "# 가상의 기울기 a와 y 절편 b를 정합니다.\n",
    "fake_a = 3\n",
    "fake_b = 76\n",
    "\n",
    "# 공부 시간 x와 성적 y의 넘파이 배열을 만듭니다.\n",
    "x = np.array([2, 4, 6, 8])\n",
    "y = np.array([81, 93, 91, 97])\n",
    "\n",
    "# y = ax + b에 가상의 a 값과 b 값을 대입한 결과를 출력하는 함수입니다.\n",
    "def predict(x):\n",
    "    return fake_a * x + fake_b\n",
    "\n",
    "# 예측 값이 들어갈 빈 리스트를 만듭니다.\n",
    "predict_result = []\n",
    "\n",
    "# 모든 x 값을 한 번씩 대입해 predict_result 리스트를 완성합니다.\n",
    "for i in range(len(x)):\n",
    "    predict_result.append(predict(x[i]))\n",
    "    print(\"공부시간=%.f, 실제점수=%.f, 예측점수=%.f\" % (x[i], y[i], predict(x[i])))\n",
    "    \n",
    "# 평균 제곱 오차 함수를 각 y 값에 대입해 최종 값을 구하는 함수입니다.\n",
    "n = len(x)  \n",
    "def mse(y, y_pred):\n",
    "    return (1/n) * sum((y - y_pred)**2)\n",
    "\n",
    "# 평균 제곱 오차 값을 출력합니다.\n",
    "print(\"평균 제곱 오차: \" + str(mse(y, predict_result)))"
   ]
  },
  {
   "cell_type": "markdown",
   "metadata": {},
   "source": [
    "### 그래프 시각화"
   ]
  },
  {
   "cell_type": "code",
   "execution_count": 14,
   "metadata": {},
   "outputs": [],
   "source": [
    "x = np.array([2, 4, 6, 8])\n",
    "y = np.array([81, 93, 91, 97])"
   ]
  },
  {
   "cell_type": "code",
   "execution_count": 15,
   "metadata": {},
   "outputs": [
    {
     "data": {
      "text/plain": [
       "[82, 88, 94, 100]"
      ]
     },
     "execution_count": 15,
     "metadata": {},
     "output_type": "execute_result"
    }
   ],
   "source": [
    "# 기울기를 3, 절편을 79로 높고 예측값 계산\n",
    "z = [ fake_a * v + fake_b for v in x]\n",
    "z"
   ]
  },
  {
   "cell_type": "code",
   "execution_count": 11,
   "metadata": {
    "collapsed": true,
    "jupyter": {
     "outputs_hidden": true
    },
    "tags": []
   },
   "outputs": [
    {
     "name": "stdout",
     "output_type": "stream",
     "text": [
      "Collecting package metadata (current_repodata.json): ...working... done\n",
      "Solving environment: ...working... done\n",
      "\n",
      "## Package Plan ##\n",
      "\n",
      "  environment location: C:\\Java\\miniconda3\\envs\\.py39\n",
      "\n",
      "  added / updated specs:\n",
      "    - matplotlib\n",
      "\n",
      "\n",
      "The following packages will be downloaded:\n",
      "\n",
      "    package                    |            build\n",
      "    ---------------------------|-----------------\n",
      "    brotli-1.0.9               |       h8ffe710_7          18 KB  conda-forge\n",
      "    brotli-bin-1.0.9           |       h8ffe710_7          21 KB  conda-forge\n",
      "    cycler-0.11.0              |     pyhd8ed1ab_0          10 KB  conda-forge\n",
      "    fonttools-4.25.0           |     pyhd3eb1b0_0         632 KB\n",
      "    freetype-2.10.4            |       h546665d_1         489 KB  conda-forge\n",
      "    kiwisolver-1.4.4           |   py39h2e07f2f_0          61 KB  conda-forge\n",
      "    libbrotlicommon-1.0.9      |       h8ffe710_7          67 KB  conda-forge\n",
      "    libbrotlidec-1.0.9         |       h8ffe710_7          33 KB  conda-forge\n",
      "    libbrotlienc-1.0.9         |       h8ffe710_7         716 KB  conda-forge\n",
      "    libtiff-4.0.9              |    h36446d0_1002         828 KB  conda-forge\n",
      "    matplotlib-3.5.3           |   py39hcbf5309_2           7 KB  conda-forge\n",
      "    matplotlib-base-3.5.3      |   py39h581301d_0         7.3 MB  conda-forge\n",
      "    munkres-1.1.4              |     pyh9f0ad1d_0          12 KB  conda-forge\n",
      "    pillow-9.2.0               |   py39hdc2b20a_1         908 KB\n",
      "    tk-8.6.12                  |       h8ffe710_0         3.5 MB  conda-forge\n",
      "    ------------------------------------------------------------\n",
      "                                           Total:        14.5 MB\n",
      "\n",
      "The following NEW packages will be INSTALLED:\n",
      "\n",
      "  brotli             conda-forge/win-64::brotli-1.0.9-h8ffe710_7 None\n",
      "  brotli-bin         conda-forge/win-64::brotli-bin-1.0.9-h8ffe710_7 None\n",
      "  cycler             conda-forge/noarch::cycler-0.11.0-pyhd8ed1ab_0 None\n",
      "  fonttools          pkgs/main/noarch::fonttools-4.25.0-pyhd3eb1b0_0 None\n",
      "  freetype           conda-forge/win-64::freetype-2.10.4-h546665d_1 None\n",
      "  kiwisolver         conda-forge/win-64::kiwisolver-1.4.4-py39h2e07f2f_0 None\n",
      "  libbrotlicommon    conda-forge/win-64::libbrotlicommon-1.0.9-h8ffe710_7 None\n",
      "  libbrotlidec       conda-forge/win-64::libbrotlidec-1.0.9-h8ffe710_7 None\n",
      "  libbrotlienc       conda-forge/win-64::libbrotlienc-1.0.9-h8ffe710_7 None\n",
      "  libtiff            conda-forge/win-64::libtiff-4.0.9-h36446d0_1002 None\n",
      "  matplotlib         conda-forge/win-64::matplotlib-3.5.3-py39hcbf5309_2 None\n",
      "  matplotlib-base    conda-forge/win-64::matplotlib-base-3.5.3-py39h581301d_0 None\n",
      "  munkres            conda-forge/noarch::munkres-1.1.4-pyh9f0ad1d_0 None\n",
      "  pillow             pkgs/main/win-64::pillow-9.2.0-py39hdc2b20a_1 None\n",
      "  tk                 conda-forge/win-64::tk-8.6.12-h8ffe710_0 None\n",
      "\n",
      "\n",
      "\n",
      "Downloading and Extracting Packages\n",
      "\n",
      "brotli-bin-1.0.9     | 21 KB     |            |   0% \n",
      "brotli-bin-1.0.9     | 21 KB     | #######7   |  77% \n",
      "brotli-bin-1.0.9     | 21 KB     | ########## | 100% \n",
      "\n",
      "libbrotlicommon-1.0. | 67 KB     |            |   0% \n",
      "libbrotlicommon-1.0. | 67 KB     | ########## | 100% \n",
      "libbrotlicommon-1.0. | 67 KB     | ########## | 100% \n",
      "\n",
      "pillow-9.2.0         | 908 KB    |            |   0% \n",
      "pillow-9.2.0         | 908 KB    | ######3    |  63% \n",
      "pillow-9.2.0         | 908 KB    | ########## | 100% \n",
      "\n",
      "libbrotlidec-1.0.9   | 33 KB     |            |   0% \n",
      "libbrotlidec-1.0.9   | 33 KB     | ########## | 100% \n",
      "\n",
      "fonttools-4.25.0     | 632 KB    |            |   0% \n",
      "fonttools-4.25.0     | 632 KB    | ########## | 100% \n",
      "fonttools-4.25.0     | 632 KB    | ########## | 100% \n",
      "\n",
      "cycler-0.11.0        | 10 KB     |            |   0% \n",
      "cycler-0.11.0        | 10 KB     | ########## | 100% \n",
      "\n",
      "libbrotlienc-1.0.9   | 716 KB    |            |   0% \n",
      "libbrotlienc-1.0.9   | 716 KB    | ########## | 100% \n",
      "libbrotlienc-1.0.9   | 716 KB    | ########## | 100% \n",
      "\n",
      "libtiff-4.0.9        | 828 KB    |            |   0% \n",
      "libtiff-4.0.9        | 828 KB    | ########## | 100% \n",
      "libtiff-4.0.9        | 828 KB    | ########## | 100% \n",
      "\n",
      "munkres-1.1.4        | 12 KB     |            |   0% \n",
      "munkres-1.1.4        | 12 KB     | ########## | 100% \n",
      "\n",
      "matplotlib-3.5.3     | 7 KB      |            |   0% \n",
      "matplotlib-3.5.3     | 7 KB      | ########## | 100% \n",
      "\n",
      "matplotlib-base-3.5. | 7.3 MB    |            |   0% \n",
      "matplotlib-base-3.5. | 7.3 MB    | ##8        |  28% \n",
      "matplotlib-base-3.5. | 7.3 MB    | ######6    |  67% \n",
      "matplotlib-base-3.5. | 7.3 MB    | ########## | 100% \n",
      "\n",
      "brotli-1.0.9         | 18 KB     |            |   0% \n",
      "brotli-1.0.9         | 18 KB     | ########## | 100% \n",
      "brotli-1.0.9         | 18 KB     | ########## | 100% \n",
      "\n",
      "tk-8.6.12            | 3.5 MB    |            |   0% \n",
      "tk-8.6.12            | 3.5 MB    | ######2    |  62% \n",
      "tk-8.6.12            | 3.5 MB    | ########## | 100% \n",
      "\n",
      "freetype-2.10.4      | 489 KB    |            |   0% \n",
      "freetype-2.10.4      | 489 KB    | ########## | 100% \n",
      "freetype-2.10.4      | 489 KB    | ########## | 100% \n",
      "\n",
      "kiwisolver-1.4.4     | 61 KB     |            |   0% \n",
      "kiwisolver-1.4.4     | 61 KB     | ########## | 100% \n",
      "kiwisolver-1.4.4     | 61 KB     | ########## | 100% \n",
      "Preparing transaction: ...working... done\n",
      "Verifying transaction: ...working... done\n",
      "Executing transaction: ...working... done\n",
      "Retrieving notices: ...working... done\n"
     ]
    }
   ],
   "source": [
    "!conda install -c conda-forge -y matplotlib"
   ]
  },
  {
   "cell_type": "code",
   "execution_count": 22,
   "metadata": {
    "collapsed": true,
    "jupyter": {
     "outputs_hidden": true
    },
    "tags": []
   },
   "outputs": [
    {
     "name": "stdout",
     "output_type": "stream",
     "text": [
      "Requirement already satisfied: matplotlib in c:\\java\\miniconda3\\envs\\.py39\\lib\\site-packages (3.5.3)\n",
      "Requirement already satisfied: cycler>=0.10 in c:\\java\\miniconda3\\envs\\.py39\\lib\\site-packages (from matplotlib) (0.11.0)\n",
      "Requirement already satisfied: python-dateutil>=2.7 in c:\\users\\lg pc\\appdata\\roaming\\python\\python39\\site-packages (from matplotlib) (2.8.2)\n",
      "Requirement already satisfied: kiwisolver>=1.0.1 in c:\\java\\miniconda3\\envs\\.py39\\lib\\site-packages (from matplotlib) (1.4.4)\n",
      "Requirement already satisfied: pillow>=6.2.0 in c:\\java\\miniconda3\\envs\\.py39\\lib\\site-packages (from matplotlib) (9.2.0)\n",
      "Requirement already satisfied: packaging>=20.0 in c:\\users\\lg pc\\appdata\\roaming\\python\\python39\\site-packages (from matplotlib) (21.3)\n",
      "Requirement already satisfied: fonttools>=4.22.0 in c:\\java\\miniconda3\\envs\\.py39\\lib\\site-packages (from matplotlib) (4.25.0)\n",
      "Requirement already satisfied: pyparsing>=2.2.1 in c:\\users\\lg pc\\appdata\\roaming\\python\\python39\\site-packages (from matplotlib) (3.0.9)\n",
      "Requirement already satisfied: numpy>=1.17 in c:\\java\\miniconda3\\envs\\.py39\\lib\\site-packages (from matplotlib) (1.23.5)\n",
      "Requirement already satisfied: six>=1.5 in c:\\users\\lg pc\\appdata\\roaming\\python\\python39\\site-packages (from python-dateutil>=2.7->matplotlib) (1.16.0)\n",
      "Note: you may need to restart the kernel to use updated packages.\n"
     ]
    }
   ],
   "source": [
    "pip install matplotlib"
   ]
  },
  {
   "cell_type": "code",
   "execution_count": 23,
   "metadata": {
    "tags": []
   },
   "outputs": [
    {
     "data": {
      "image/png": "[encoded data removed]",
      "text/plain": [
       "<Figure size 640x480 with 1 Axes>"
      ]
     },
     "metadata": {},
     "output_type": "display_data"
    }
   ],
   "source": [
    "import matplotlib.pyplot as plt\n",
    "\n",
    "plt.plot(x,y,'ro')\n",
    "plt.plot(x,z,'b')   # 예측선 : 기울기 : 3, 절편 : 76\n",
    "plt.show()"
   ]
  },
  {
   "cell_type": "code",
   "execution_count": 28,
   "metadata": {},
   "outputs": [],
   "source": [
    "fake_a2, fake_b2 = 2, 76\n",
    "z = [ fake_a2 * v + fake_b2 for v in x]"
   ]
  },
  {
   "cell_type": "code",
   "execution_count": 29,
   "metadata": {
    "collapsed": true,
    "jupyter": {
     "outputs_hidden": true
    },
    "tags": []
   },
   "outputs": [
    {
     "data": {
      "image/png": "[encoded data removed]",
      "text/plain": [
       "<Figure size 640x480 with 1 Axes>"
      ]
     },
     "metadata": {},
     "output_type": "display_data"
    }
   ],
   "source": [
    "plt.plot(x,y,'ro')\n",
    "plt.plot(x,z,'b')   # 예측선 : 기울기 : 2, 절편 : 76\n",
    "plt.show()"
   ]
  },
  {
   "cell_type": "code",
   "execution_count": 27,
   "metadata": {},
   "outputs": [
    {
     "name": "stdout",
     "output_type": "stream",
     "text": [
      "평균 제곱 오차: 29.0\n"
     ]
    }
   ],
   "source": [
    "# 평균 제곱 오차 값을 출력합니다.\n",
    "print(\"평균 제곱 오차: \" + str(mse(y, z)))"
   ]
  },
  {
   "cell_type": "markdown",
   "metadata": {},
   "source": [
    "## 기울기와 오차\n",
    "* 기울기 a를 너무 크게 잡으면 오차가 커지는 것을 확인했습니다. \n",
    "* 기울기를 너무 작게 잡아도 오차가 커집니다. \n",
    "* 기울기 a와 오차 사이에는 이렇게 상관관계가 있습\n",
    "* 기울기가 무한대로 커지거나 무한대로 작아지면 그래프는 y축과 나란한 직선이 됩니다\n",
    "* 기울기 a와 오차 사이에는 이차 함수의 관계가 있다는 의미\n",
    "* 오차가 가장 작을 때는 언제일까요? 그래프의 가장 아래쪽 볼록한 부분에 이르렀을 때입니다.\n",
    "* 바로 미분 기울기를 이용하는 경사 하강법(gradient decent)\n",
    "* 우리가 찾는 최솟값 m에서의 순간 기울기\n",
    "* 그래프가 이차 함수 포물선이므로 꼭짓점의 기울기는 x축과 평행한 선이 됩니다. \n",
    "* 즉, 기울기가 0입니다. 따라서 우리가 할 일은 ‘미분 값이 0인 지점’을 찾는 것이 됩니다.\n",
    "* 학습률(learning rate)\n",
    "* 어느 만큼 이동시킬지 신중히 결정해야 하는데, 이때 이동 거리를 정해 주는 것이 바로 학습률입니다. \n",
    "* 딥러닝에서 학습률의 값을 적절히 바꾸면서 최적의 학습률을 찾는 것은 중요한 최적화 과정 중 하나"
   ]
  },
  {
   "cell_type": "markdown",
   "metadata": {},
   "source": [
    "### 기울기와 오차간의 관계 시각화"
   ]
  },
  {
   "cell_type": "code",
   "execution_count": 20,
   "metadata": {
    "collapsed": true,
    "jupyter": {
     "outputs_hidden": true
    },
    "tags": []
   },
   "outputs": [
    {
     "name": "stdout",
     "output_type": "stream",
     "text": [
      "Collecting package metadata (current_repodata.json): ...working... done\n",
      "Solving environment: ...working... done\n",
      "\n",
      "## Package Plan ##\n",
      "\n",
      "  environment location: C:\\Java\\miniconda3\\envs\\.py39\n",
      "\n",
      "  added / updated specs:\n",
      "    - scikit-learn\n",
      "\n",
      "\n",
      "The following packages will be downloaded:\n",
      "\n",
      "    package                    |            build\n",
      "    ---------------------------|-----------------\n",
      "    joblib-1.2.0               |     pyhd8ed1ab_0         205 KB  conda-forge\n",
      "    scikit-learn-1.1.2         |   py39hfd4428b_0         7.6 MB  conda-forge\n",
      "    threadpoolctl-3.1.0        |     pyh8a188c0_0          18 KB  conda-forge\n",
      "    ------------------------------------------------------------\n",
      "                                           Total:         7.8 MB\n",
      "\n",
      "The following NEW packages will be INSTALLED:\n",
      "\n",
      "  joblib             conda-forge/noarch::joblib-1.2.0-pyhd8ed1ab_0 None\n",
      "  scikit-learn       conda-forge/win-64::scikit-learn-1.1.2-py39hfd4428b_0 None\n",
      "  threadpoolctl      conda-forge/noarch::threadpoolctl-3.1.0-pyh8a188c0_0 None\n",
      "\n",
      "\n",
      "\n",
      "Downloading and Extracting Packages\n",
      "\n",
      "scikit-learn-1.1.2   | 7.6 MB    |            |   0% \n",
      "scikit-learn-1.1.2   | 7.6 MB    | 1          |   1% \n",
      "scikit-learn-1.1.2   | 7.6 MB    | ####7      |  47% \n",
      "scikit-learn-1.1.2   | 7.6 MB    | #########6 |  96% \n",
      "scikit-learn-1.1.2   | 7.6 MB    | ########## | 100% \n",
      "\n",
      "threadpoolctl-3.1.0  | 18 KB     |            |   0% \n",
      "threadpoolctl-3.1.0  | 18 KB     | ########## | 100% \n",
      "\n",
      "joblib-1.2.0         | 205 KB    |            |   0% \n",
      "joblib-1.2.0         | 205 KB    | ########## | 100% \n",
      "joblib-1.2.0         | 205 KB    | ########## | 100% \n",
      "Preparing transaction: ...working... done\n",
      "Verifying transaction: ...working... done\n",
      "Executing transaction: ...working... done\n",
      "Retrieving notices: ...working... done\n"
     ]
    }
   ],
   "source": [
    "!conda install -c conda-forge -y scikit-learn"
   ]
  },
  {
   "cell_type": "code",
   "execution_count": 25,
   "metadata": {},
   "outputs": [
    {
     "data": {
      "image/png": "[encoded data removed]",
      "text/plain": [
       "<Figure size 640x480 with 1 Axes>"
      ]
     },
     "metadata": {},
     "output_type": "display_data"
    }
   ],
   "source": [
    "import numpy as np\n",
    "import matplotlib.pyplot as plt\n",
    "from sklearn.metrics import mean_squared_error\n",
    "\n",
    "weights = []     # 기울기 (가중치)\n",
    "loss = []        # 오차\n",
    "b = 0            # 절편은 0으로 편의상 설정\n",
    "\n",
    "for w in range(-10, 40) :  # 기울기를 -20 ~ 50까지 설정\n",
    "    xtrain = np.array([2,4,6,8])\n",
    "    ytrain = np.array([91,93,91,97])   # 실제값\n",
    "    ytrain_hat = w * xtrain + b        # 예측값\n",
    "    \n",
    "    weights.append(w)\n",
    "    loss.append(np.sqrt(mean_squared_error(ytrain, ytrain_hat)))\n",
    "\n",
    "# 결과 출력 및 그래프 그리기\n",
    "# print(weights, '\\n', loss)\n",
    "\n",
    "plt.plot(weights, loss)\n",
    "# plt.axis([-15,45, 0, 30000])\n",
    "plt.show()"
   ]
  },
  {
   "cell_type": "code",
   "execution_count": 30,
   "metadata": {},
   "outputs": [
    {
     "name": "stdout",
     "output_type": "stream",
     "text": [
      "epoch=0, 기울기=27.8400, 절편=5.4300, 오차=8225.0000\n",
      "epoch=100, 기울기=7.0739, 절편=50.5117, 오차=146.2553\n",
      "epoch=200, 기울기=4.0960, 절편=68.2822, 오차=27.8259\n",
      "epoch=300, 기울기=2.9757, 절편=74.9678, 오차=11.0637\n",
      "epoch=400, 기울기=2.5542, 절편=77.4830, 오차=8.6912\n",
      "epoch=500, 기울기=2.3956, 절편=78.4293, 오차=8.3554\n",
      "epoch=600, 기울기=2.3360, 절편=78.7853, 오차=8.3078\n",
      "epoch=700, 기울기=2.3135, 절편=78.9192, 오차=8.3011\n",
      "epoch=800, 기울기=2.3051, 절편=78.9696, 오차=8.3002\n",
      "epoch=900, 기울기=2.3019, 절편=78.9886, 오차=8.3000\n",
      "epoch=1000, 기울기=2.3007, 절편=78.9957, 오차=8.3000\n",
      "epoch=1100, 기울기=2.3003, 절편=78.9984, 오차=8.3000\n",
      "epoch=1200, 기울기=2.3001, 절편=78.9994, 오차=8.3000\n",
      "epoch=1300, 기울기=2.3000, 절편=78.9998, 오차=8.3000\n",
      "epoch=1400, 기울기=2.3000, 절편=78.9999, 오차=8.3000\n",
      "epoch=1500, 기울기=2.3000, 절편=79.0000, 오차=8.3000\n",
      "epoch=1600, 기울기=2.3000, 절편=79.0000, 오차=8.3000\n",
      "epoch=1700, 기울기=2.3000, 절편=79.0000, 오차=8.3000\n",
      "epoch=1800, 기울기=2.3000, 절편=79.0000, 오차=8.3000\n",
      "epoch=1900, 기울기=2.3000, 절편=79.0000, 오차=8.3000\n",
      "epoch=2000, 기울기=2.3000, 절편=79.0000, 오차=8.3000\n"
     ]
    },
    {
     "data": {
      "image/png": "[encoded data removed]",
      "text/plain": [
       "<Figure size 640x480 with 1 Axes>"
      ]
     },
     "metadata": {},
     "output_type": "display_data"
    }
   ],
   "source": [
    "import matplotlib.pyplot as plt\n",
    "\n",
    "# 기울기 a의 값과 절편 b의 값을 초기화합니다.\n",
    "a = 0\n",
    "b = 0\n",
    "\n",
    "# 학습률을 정합니다.\n",
    "lr = 0.03\n",
    "\n",
    "# 전체데이터를 대상으로 학습을 몇 번 반복될지 설정합니다.\n",
    "epochs = 2001 \n",
    "\n",
    "# x 값이 총 몇 개인지 셉니다.\n",
    "n = len(x)\n",
    "\n",
    "# 경사 하강법을 시작합니다.\n",
    "for i in range(epochs):      # 에포크 수만큼 반복합니다.\n",
    "    y_pred = a * x + b       # 예측 값을 구하는 식입니다.\n",
    "    error = y - y_pred       # 실제 값과 비교한 오차를 error로 놓습니다.\n",
    "\n",
    "    a_diff = (2/n) * sum(-x * (error))   # 오차 함수를 a로 편미분한 값입니다.\n",
    "    b_diff = (2/n) * sum(-(error))       # 오차 함수를 b로 편미분한 값입니다.\n",
    "\n",
    "    a = a - lr * a_diff   # 학습률을 곱해 기존의 a 값을 업데이트합니다.\n",
    "    b = b - lr * b_diff   # 학습률을 곱해 기존의 b 값을 업데이트합니다.\n",
    "\n",
    "    if i % 100 == 0:      # 100번 반복될 때마다 현재의 a 값, b 값을 출력합니다.\n",
    "        print(\"epoch=%.f, 기울기=%.04f, 절편=%.04f, 오차=%.04f\" % (i, a, b,mse(y,y_pred)))\n",
    "        \n",
    "# 앞서 구한 최종 a 값을 기울기, b 값을 y 절편에 대입해 그래프를 그립니다.\n",
    "y_pred = a * x + b      \n",
    "\n",
    "\n",
    "# 공부 시간 X와 성 y의 넘파이 배열을 만듭니다.\n",
    "x = np.array([2, 4, 6, 8])\n",
    "y = np.array([81, 93, 91, 97])\n",
    "\n",
    "# 데이터의 분포를 그래프로 나타냅니다.\n",
    "plt.scatter(x, y)\n",
    "plt.plot(x, y_pred,'r')\n",
    "plt.show()"
   ]
  },
  {
   "cell_type": "code",
   "execution_count": null,
   "metadata": {},
   "outputs": [],
   "source": []
  }
 ],
 "metadata": {
  "kernelspec": {
   "display_name": "Python 3 (ipykernel)",
   "language": "python",
   "name": "python3"
  },
  "language_info": {
   "codemirror_mode": {
    "name": "ipython",
    "version": 3
   },
   "file_extension": ".py",
   "mimetype": "text/x-python",
   "name": "python",
   "nbconvert_exporter": "python",
   "pygments_lexer": "ipython3",
   "version": "3.9.15"
  }
 },
 "nbformat": 4,
 "nbformat_minor": 4
}
