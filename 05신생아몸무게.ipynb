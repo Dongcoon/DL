{
 "cells": [
  {
   "cell_type": "code",
   "execution_count": 2,
   "id": "39d0f441-e905-4240-8525-1276d62fc977",
   "metadata": {},
   "outputs": [],
   "source": [
    "from tensorflow.keras.models import Sequential\n",
    "from tensorflow.keras.layers import Dense\n",
    "\n",
    "# 피클 직렬화 유틸리티 - 케라스 "
   ]
  },
  {
   "cell_type": "code",
   "execution_count": 3,
   "id": "a61bb9ed-a192-48f6-a652-1d7a4f5b4563",
   "metadata": {},
   "outputs": [],
   "source": [
    "import numpy as np\n",
    "import matplotlib.pyplot as plt"
   ]
  },
  {
   "cell_type": "code",
   "execution_count": 4,
   "id": "f2258fdf-3268-4b5e-94c9-94cfc47d41ff",
   "metadata": {},
   "outputs": [],
   "source": [
    "import os\n",
    "os.environ['KMP_DUPLICATE_LIB_OK']='True'"
   ]
  },
  {
   "cell_type": "markdown",
   "id": "78b78d32-391b-4d79-a1c1-26237a6a097c",
   "metadata": {},
   "source": [
    "## 판촉전화횟수에 따라 판매량 분석"
   ]
  },
  {
   "cell_type": "code",
   "execution_count": 21,
   "id": "8e1d5116-7e1c-47b0-8add-ee1d403d7dd2",
   "metadata": {},
   "outputs": [],
   "source": [
    "phone =  np.array([96, 40, 104, 128, 164, 76, 72, 80, 36, 84, 180, 132, 120, 44, 84])\n",
    "sales = np.array([41, 41, 51, 60, 61, 29, 39, 50, 28, 43, 70, 56, 45, 31, 30])"
   ]
  },
  {
   "cell_type": "markdown",
   "id": "cf4a53e6-4f1c-452d-aef3-839af0a61517",
   "metadata": {},
   "source": [
    "## 선형회귀"
   ]
  },
  {
   "cell_type": "code",
   "execution_count": 39,
   "id": "dbb21314-4062-4ef2-95e5-9c79c80d56d9",
   "metadata": {
    "collapsed": true,
    "jupyter": {
     "outputs_hidden": true
    },
    "tags": []
   },
   "outputs": [
    {
     "name": "stdout",
     "output_type": "stream",
     "text": [
      "Epoch 1/100\n",
      "1/1 [==============================] - 0s 197ms/step - loss: 4888.8301\n",
      "Epoch 2/100\n",
      "1/1 [==============================] - 0s 5ms/step - loss: 3025.5674\n",
      "Epoch 3/100\n",
      "1/1 [==============================] - 0s 4ms/step - loss: 1887.5073\n",
      "Epoch 4/100\n",
      "1/1 [==============================] - 0s 6ms/step - loss: 1192.3927\n",
      "Epoch 5/100\n",
      "1/1 [==============================] - 0s 4ms/step - loss: 767.8246\n",
      "Epoch 6/100\n",
      "1/1 [==============================] - 0s 6ms/step - loss: 508.5030\n",
      "Epoch 7/100\n",
      "1/1 [==============================] - 0s 4ms/step - loss: 350.1119\n",
      "Epoch 8/100\n",
      "1/1 [==============================] - 0s 6ms/step - loss: 253.3683\n",
      "Epoch 9/100\n",
      "1/1 [==============================] - 0s 4ms/step - loss: 194.2784\n",
      "Epoch 10/100\n",
      "1/1 [==============================] - 0s 4ms/step - loss: 158.1867\n",
      "Epoch 11/100\n",
      "1/1 [==============================] - 0s 4ms/step - loss: 136.1420\n",
      "Epoch 12/100\n",
      "1/1 [==============================] - 0s 3ms/step - loss: 122.6773\n",
      "Epoch 13/100\n",
      "1/1 [==============================] - 0s 5ms/step - loss: 114.4531\n",
      "Epoch 14/100\n",
      "1/1 [==============================] - 0s 6ms/step - loss: 109.4297\n",
      "Epoch 15/100\n",
      "1/1 [==============================] - 0s 4ms/step - loss: 106.3612\n",
      "Epoch 16/100\n",
      "1/1 [==============================] - 0s 6ms/step - loss: 104.4869\n",
      "Epoch 17/100\n",
      "1/1 [==============================] - 0s 6ms/step - loss: 103.3420\n",
      "Epoch 18/100\n",
      "1/1 [==============================] - 0s 4ms/step - loss: 102.6425\n",
      "Epoch 19/100\n",
      "1/1 [==============================] - 0s 4ms/step - loss: 102.2151\n",
      "Epoch 20/100\n",
      "1/1 [==============================] - 0s 4ms/step - loss: 101.9539\n",
      "Epoch 21/100\n",
      "1/1 [==============================] - 0s 5ms/step - loss: 101.7943\n",
      "Epoch 22/100\n",
      "1/1 [==============================] - 0s 6ms/step - loss: 101.6966\n",
      "Epoch 23/100\n",
      "1/1 [==============================] - 0s 5ms/step - loss: 101.6368\n",
      "Epoch 24/100\n",
      "1/1 [==============================] - 0s 5ms/step - loss: 101.6001\n",
      "Epoch 25/100\n",
      "1/1 [==============================] - 0s 4ms/step - loss: 101.5775\n",
      "Epoch 26/100\n",
      "1/1 [==============================] - 0s 5ms/step - loss: 101.5636\n",
      "Epoch 27/100\n",
      "1/1 [==============================] - 0s 5ms/step - loss: 101.5549\n",
      "Epoch 28/100\n",
      "1/1 [==============================] - 0s 4ms/step - loss: 101.5495\n",
      "Epoch 29/100\n",
      "1/1 [==============================] - 0s 5ms/step - loss: 101.5460\n",
      "Epoch 30/100\n",
      "1/1 [==============================] - 0s 4ms/step - loss: 101.5437\n",
      "Epoch 31/100\n",
      "1/1 [==============================] - 0s 5ms/step - loss: 101.5422\n",
      "Epoch 32/100\n",
      "1/1 [==============================] - 0s 6ms/step - loss: 101.5411\n",
      "Epoch 33/100\n",
      "1/1 [==============================] - 0s 4ms/step - loss: 101.5403\n",
      "Epoch 34/100\n",
      "1/1 [==============================] - 0s 5ms/step - loss: 101.5396\n",
      "Epoch 35/100\n",
      "1/1 [==============================] - 0s 5ms/step - loss: 101.5391\n",
      "Epoch 36/100\n",
      "1/1 [==============================] - 0s 4ms/step - loss: 101.5386\n",
      "Epoch 37/100\n",
      "1/1 [==============================] - 0s 5ms/step - loss: 101.5381\n",
      "Epoch 38/100\n",
      "1/1 [==============================] - 0s 4ms/step - loss: 101.5377\n",
      "Epoch 39/100\n",
      "1/1 [==============================] - 0s 4ms/step - loss: 101.5373\n",
      "Epoch 40/100\n",
      "1/1 [==============================] - 0s 4ms/step - loss: 101.5369\n",
      "Epoch 41/100\n",
      "1/1 [==============================] - 0s 5ms/step - loss: 101.5365\n",
      "Epoch 42/100\n",
      "1/1 [==============================] - 0s 4ms/step - loss: 101.5361\n",
      "Epoch 43/100\n",
      "1/1 [==============================] - 0s 4ms/step - loss: 101.5357\n",
      "Epoch 44/100\n",
      "1/1 [==============================] - 0s 6ms/step - loss: 101.5353\n",
      "Epoch 45/100\n",
      "1/1 [==============================] - 0s 5ms/step - loss: 101.5349\n",
      "Epoch 46/100\n",
      "1/1 [==============================] - 0s 4ms/step - loss: 101.5345\n",
      "Epoch 47/100\n",
      "1/1 [==============================] - 0s 6ms/step - loss: 101.5341\n",
      "Epoch 48/100\n",
      "1/1 [==============================] - 0s 4ms/step - loss: 101.5337\n",
      "Epoch 49/100\n",
      "1/1 [==============================] - 0s 4ms/step - loss: 101.5333\n",
      "Epoch 50/100\n",
      "1/1 [==============================] - 0s 5ms/step - loss: 101.5329\n",
      "Epoch 51/100\n",
      "1/1 [==============================] - 0s 4ms/step - loss: 101.5326\n",
      "Epoch 52/100\n",
      "1/1 [==============================] - 0s 5ms/step - loss: 101.5322\n",
      "Epoch 53/100\n",
      "1/1 [==============================] - 0s 4ms/step - loss: 101.5318\n",
      "Epoch 54/100\n",
      "1/1 [==============================] - 0s 5ms/step - loss: 101.5314\n",
      "Epoch 55/100\n",
      "1/1 [==============================] - 0s 3ms/step - loss: 101.5310\n",
      "Epoch 56/100\n",
      "1/1 [==============================] - 0s 3ms/step - loss: 101.5306\n",
      "Epoch 57/100\n",
      "1/1 [==============================] - 0s 3ms/step - loss: 101.5302\n",
      "Epoch 58/100\n",
      "1/1 [==============================] - 0s 3ms/step - loss: 101.5298\n",
      "Epoch 59/100\n",
      "1/1 [==============================] - 0s 6ms/step - loss: 101.5295\n",
      "Epoch 60/100\n",
      "1/1 [==============================] - 0s 4ms/step - loss: 101.5290\n",
      "Epoch 61/100\n",
      "1/1 [==============================] - 0s 4ms/step - loss: 101.5287\n",
      "Epoch 62/100\n",
      "1/1 [==============================] - 0s 5ms/step - loss: 101.5283\n",
      "Epoch 63/100\n",
      "1/1 [==============================] - 0s 4ms/step - loss: 101.5279\n",
      "Epoch 64/100\n",
      "1/1 [==============================] - 0s 4ms/step - loss: 101.5275\n",
      "Epoch 65/100\n",
      "1/1 [==============================] - 0s 5ms/step - loss: 101.5271\n",
      "Epoch 66/100\n",
      "1/1 [==============================] - 0s 5ms/step - loss: 101.5267\n",
      "Epoch 67/100\n",
      "1/1 [==============================] - 0s 4ms/step - loss: 101.5263\n",
      "Epoch 68/100\n",
      "1/1 [==============================] - 0s 4ms/step - loss: 101.5259\n",
      "Epoch 69/100\n",
      "1/1 [==============================] - 0s 4ms/step - loss: 101.5255\n",
      "Epoch 70/100\n",
      "1/1 [==============================] - 0s 4ms/step - loss: 101.5251\n",
      "Epoch 71/100\n",
      "1/1 [==============================] - 0s 4ms/step - loss: 101.5248\n",
      "Epoch 72/100\n",
      "1/1 [==============================] - 0s 5ms/step - loss: 101.5244\n",
      "Epoch 73/100\n",
      "1/1 [==============================] - 0s 5ms/step - loss: 101.5240\n",
      "Epoch 74/100\n",
      "1/1 [==============================] - 0s 3ms/step - loss: 101.5236\n",
      "Epoch 75/100\n",
      "1/1 [==============================] - 0s 6ms/step - loss: 101.5232\n",
      "Epoch 76/100\n",
      "1/1 [==============================] - 0s 4ms/step - loss: 101.5228\n",
      "Epoch 77/100\n",
      "1/1 [==============================] - 0s 4ms/step - loss: 101.5224\n",
      "Epoch 78/100\n",
      "1/1 [==============================] - 0s 5ms/step - loss: 101.5220\n",
      "Epoch 79/100\n",
      "1/1 [==============================] - 0s 4ms/step - loss: 101.5216\n",
      "Epoch 80/100\n",
      "1/1 [==============================] - 0s 5ms/step - loss: 101.5213\n",
      "Epoch 81/100\n",
      "1/1 [==============================] - 0s 4ms/step - loss: 101.5209\n",
      "Epoch 82/100\n",
      "1/1 [==============================] - 0s 4ms/step - loss: 101.5205\n",
      "Epoch 83/100\n",
      "1/1 [==============================] - 0s 6ms/step - loss: 101.5201\n",
      "Epoch 84/100\n",
      "1/1 [==============================] - 0s 4ms/step - loss: 101.5197\n",
      "Epoch 85/100\n",
      "1/1 [==============================] - 0s 7ms/step - loss: 101.5193\n",
      "Epoch 86/100\n",
      "1/1 [==============================] - 0s 4ms/step - loss: 101.5189\n",
      "Epoch 87/100\n",
      "1/1 [==============================] - 0s 5ms/step - loss: 101.5185\n",
      "Epoch 88/100\n",
      "1/1 [==============================] - 0s 4ms/step - loss: 101.5181\n",
      "Epoch 89/100\n",
      "1/1 [==============================] - 0s 4ms/step - loss: 101.5178\n",
      "Epoch 90/100\n",
      "1/1 [==============================] - 0s 6ms/step - loss: 101.5174\n",
      "Epoch 91/100\n",
      "1/1 [==============================] - 0s 5ms/step - loss: 101.5170\n",
      "Epoch 92/100\n",
      "1/1 [==============================] - 0s 6ms/step - loss: 101.5166\n",
      "Epoch 93/100\n",
      "1/1 [==============================] - 0s 5ms/step - loss: 101.5162\n",
      "Epoch 94/100\n",
      "1/1 [==============================] - 0s 4ms/step - loss: 101.5158\n",
      "Epoch 95/100\n",
      "1/1 [==============================] - 0s 5ms/step - loss: 101.5154\n",
      "Epoch 96/100\n",
      "1/1 [==============================] - 0s 3ms/step - loss: 101.5150\n",
      "Epoch 97/100\n",
      "1/1 [==============================] - 0s 3ms/step - loss: 101.5146\n",
      "Epoch 98/100\n",
      "1/1 [==============================] - 0s 5ms/step - loss: 101.5142\n",
      "Epoch 99/100\n",
      "1/1 [==============================] - 0s 4ms/step - loss: 101.5138\n",
      "Epoch 100/100\n",
      "1/1 [==============================] - 0s 3ms/step - loss: 101.5135\n"
     ]
    },
    {
     "data": {
      "text/plain": [
       "<keras.callbacks.History at 0x25f1f649ca0>"
      ]
     },
     "execution_count": 39,
     "metadata": {},
     "output_type": "execute_result"
    }
   ],
   "source": [
    "import tensorflow as tf\n",
    "\n",
    "model = Sequential()\n",
    "\n",
    "model.add(Dense(1, input_dim=1, activation='linear'))\n",
    "\n",
    "opt = tf.keras.optimizers.SGD(learning_rate=0.00001)\n",
    "model.compile(optimizer=opt, loss='mse')\n",
    "model.fit(phone, sales, epochs=100, verbose=False)"
   ]
  },
  {
   "cell_type": "code",
   "execution_count": 41,
   "id": "d5025e14-1f2b-4168-a7b1-773d0b0f91fd",
   "metadata": {
    "tags": []
   },
   "outputs": [
    {
     "name": "stdout",
     "output_type": "stream",
     "text": [
      "1/1 [==============================] - 0s 22ms/step\n"
     ]
    },
    {
     "data": {
      "image/png": "[encoded data removed]",
      "text/plain": [
       "<Figure size 640x480 with 1 Axes>"
      ]
     },
     "metadata": {},
     "output_type": "display_data"
    },
    {
     "name": "stdout",
     "output_type": "stream",
     "text": [
      "1/1 [==============================] - 0s 34ms/step\n",
      "50번 전화할 경우 예상 판매는 21.81입니다.\n"
     ]
    }
   ],
   "source": [
    "plt.scatter(phone, sales)\n",
    "plt.plot(phone, model.predict(phone), 'r')    # 예측 결과를 그래프로 나타냅니다.\n",
    "plt.show()\n",
    "\n",
    "# 임의의 전화횟수를 집어넣어 점수를 예측하는 모델을 테스트해 보겠습니다.\n",
    "phone_count = 50\n",
    "prediction = model.predict([phone_count])\n",
    "print(\"%.f번 전화할 경우 예상 판매는 %.02f입니다.\" % (phone_count, prediction))"
   ]
  },
  {
   "cell_type": "markdown",
   "id": "3e066713-f2ab-4502-b06f-9cf541baeb46",
   "metadata": {},
   "source": [
    "## 신생아 몸무게 예측하기"
   ]
  },
  {
   "cell_type": "code",
   "execution_count": 26,
   "id": "34649316-54ba-4064-b3be-72ddd35ab52b",
   "metadata": {},
   "outputs": [],
   "source": [
    "age = np.array([1,3,5,2,11,9,3,9,12,3])\n",
    "weight = np.array([4.4,5.3,7.2,5.2,8.5,7.3,6.0,10.4,10.2,6.1])"
   ]
  },
  {
   "cell_type": "code",
   "execution_count": 35,
   "id": "f1209075-8ccb-44e6-b090-43c29199f67b",
   "metadata": {},
   "outputs": [
    {
     "data": {
      "text/plain": [
       "<keras.callbacks.History at 0x25f1d1c6f70>"
      ]
     },
     "execution_count": 35,
     "metadata": {},
     "output_type": "execute_result"
    }
   ],
   "source": [
    "\n",
    "model = Sequential()\n",
    "model.add(Dense(1, input_dim=1, activation='linear'))\n",
    "model.compile(optimizer='sgd', loss='mse')  # metrics=['accuracy'] : 정확도 확인가능\n",
    "model.fit(age, weight, epochs=1000, verbose=False)"
   ]
  },
  {
   "cell_type": "code",
   "execution_count": 36,
   "id": "be7eba14-3d99-45b8-b039-234108809aaa",
   "metadata": {
    "tags": []
   },
   "outputs": [
    {
     "name": "stdout",
     "output_type": "stream",
     "text": [
      "1/1 [==============================] - 0s 39ms/step\n"
     ]
    },
    {
     "data": {
      "image/png": "[encoded data removed]",
      "text/plain": [
       "<Figure size 640x480 with 1 Axes>"
      ]
     },
     "metadata": {},
     "output_type": "display_data"
    },
    {
     "name": "stdout",
     "output_type": "stream",
     "text": [
      "1/1 [==============================] - 0s 34ms/step\n",
      "5개월 일 경우 예상 몸무게는 6.68 kg입니다.\n"
     ]
    }
   ],
   "source": [
    "plt.scatter(age, weight)\n",
    "plt.plot(age, model.predict(age), 'r')    # 예측 결과를 그래프로 나타냅니다.\n",
    "plt.show()\n",
    "\n",
    "# 임의의 나이를 집어넣어 무게를 예측하는 모델을 테스트해 보겠습니다.\n",
    "age_p = 5\n",
    "prediction = model.predict([age_p])\n",
    "print(\"%.f개월 일 경우 예상 몸무게는 %.02f kg입니다.\" % (age_p, prediction))"
   ]
  },
  {
   "cell_type": "code",
   "execution_count": null,
   "id": "3007684e-6358-48ab-8ac1-5cbdc60ebd25",
   "metadata": {},
   "outputs": [],
   "source": []
  }
 ],
 "metadata": {
  "kernelspec": {
   "display_name": "Python 3 (ipykernel)",
   "language": "python",
   "name": "python3"
  },
  "language_info": {
   "codemirror_mode": {
    "name": "ipython",
    "version": 3
   },
   "file_extension": ".py",
   "mimetype": "text/x-python",
   "name": "python",
   "nbconvert_exporter": "python",
   "pygments_lexer": "ipython3",
   "version": "3.9.15"
  }
 },
 "nbformat": 4,
 "nbformat_minor": 5
}
