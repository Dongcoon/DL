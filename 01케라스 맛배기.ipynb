{
 "cells": [
  {
   "cell_type": "markdown",
   "metadata": {},
   "source": [
    "### 텐서플로\n",
    "* 구글에서 만든 딥러닝 오픈소스 패키지 - C++로 작성\n",
    "* 수치계산을 위한 라이브러리 \n",
    "* 데이터플로우dataflow를 사용하여 복잡한 연산을 단순한 연산으로 나누어 계산함\n",
    "    + 즉, 수식을 노드node와 엣지edge로 변환해서 그래프 형태로 연산을 수행함\n",
    "    + 텐서플로에서 노드는 연산operation, 엣지는 텐서tensor라고 표현함\n",
    "    + ex) (3 + 2) * 4 를 연산하는 경우\n",
    "    + 노드 : +, *\n",
    "    + 엣지 : 3, 2, 4\n",
    "    + => 수식에 대한 그래프는 텐서보드에서 확인가능\n",
    "\n",
    "* 코드가 복잡하고 개념이 다소 어려운 감이 있어서\n",
    "* 케라스라는 추상화도구를 이용해서 딥러닝 작업을 손쉽게 수행하는 경향\n",
    "* 다른 딥러닝 관련 패키지 : 토치torch, 카페caffe\n",
    "* 보통 텐서플로 대안으로 파이토치를 많이 추천하는 추세"
   ]
  },
  {
   "cell_type": "code",
   "execution_count": 13,
   "metadata": {
    "collapsed": true,
    "jupyter": {
     "outputs_hidden": true
    },
    "tags": []
   },
   "outputs": [
    {
     "name": "stdout",
     "output_type": "stream",
     "text": [
      "Requirement already satisfied: tensorflow in c:\\java\\miniconda3\\envs\\.py39\\lib\\site-packages (2.9.1)\n",
      "Requirement already satisfied: astunparse>=1.6.0 in c:\\java\\miniconda3\\envs\\.py39\\lib\\site-packages (from tensorflow) (1.6.3)\n",
      "Requirement already satisfied: setuptools in c:\\java\\miniconda3\\envs\\.py39\\lib\\site-packages (from tensorflow) (65.5.0)\n",
      "Requirement already satisfied: keras-preprocessing>=1.1.1 in c:\\java\\miniconda3\\envs\\.py39\\lib\\site-packages (from tensorflow) (1.1.2)\n",
      "Requirement already satisfied: absl-py>=1.0.0 in c:\\java\\miniconda3\\envs\\.py39\\lib\\site-packages (from tensorflow) (1.3.0)\n",
      "Collecting gast<=0.4.0,>=0.2.1\n",
      "  Using cached gast-0.4.0-py3-none-any.whl (9.8 kB)\n",
      "Requirement already satisfied: six>=1.12.0 in c:\\users\\lg pc\\appdata\\roaming\\python\\python39\\site-packages (from tensorflow) (1.16.0)\n",
      "Requirement already satisfied: libclang>=13.0.0 in c:\\java\\miniconda3\\envs\\.py39\\lib\\site-packages (from tensorflow) (14.0.6)\n",
      "Requirement already satisfied: tensorflow-estimator<2.10.0,>=2.9.0rc0 in c:\\java\\miniconda3\\envs\\.py39\\lib\\site-packages (from tensorflow) (2.9.0)\n",
      "Requirement already satisfied: h5py>=2.9.0 in c:\\java\\miniconda3\\envs\\.py39\\lib\\site-packages (from tensorflow) (3.7.0)\n",
      "Requirement already satisfied: tensorflow-io-gcs-filesystem>=0.23.1 in c:\\java\\miniconda3\\envs\\.py39\\lib\\site-packages (from tensorflow) (0.28.0)\n",
      "Requirement already satisfied: packaging in c:\\users\\lg pc\\appdata\\roaming\\python\\python39\\site-packages (from tensorflow) (21.3)\n",
      "Requirement already satisfied: keras<2.10.0,>=2.9.0rc0 in c:\\java\\miniconda3\\envs\\.py39\\lib\\site-packages (from tensorflow) (2.9.0)\n",
      "Collecting protobuf<3.20,>=3.9.2\n",
      "  Using cached protobuf-3.19.6-cp39-cp39-win_amd64.whl (895 kB)\n",
      "Requirement already satisfied: grpcio<2.0,>=1.24.3 in c:\\java\\miniconda3\\envs\\.py39\\lib\\site-packages (from tensorflow) (1.50.0)\n",
      "Requirement already satisfied: numpy>=1.20 in c:\\java\\miniconda3\\envs\\.py39\\lib\\site-packages (from tensorflow) (1.23.5)\n",
      "Requirement already satisfied: google-pasta>=0.1.1 in c:\\java\\miniconda3\\envs\\.py39\\lib\\site-packages (from tensorflow) (0.2.0)\n",
      "Requirement already satisfied: opt-einsum>=2.3.2 in c:\\java\\miniconda3\\envs\\.py39\\lib\\site-packages (from tensorflow) (3.3.0)\n",
      "Collecting flatbuffers<2,>=1.12\n",
      "  Using cached flatbuffers-1.12-py2.py3-none-any.whl (15 kB)\n",
      "Requirement already satisfied: typing-extensions>=3.6.6 in c:\\java\\miniconda3\\envs\\.py39\\lib\\site-packages (from tensorflow) (4.3.0)\n",
      "Requirement already satisfied: wrapt>=1.11.0 in c:\\java\\miniconda3\\envs\\.py39\\lib\\site-packages (from tensorflow) (1.14.1)\n",
      "Collecting tensorboard<2.10,>=2.9\n",
      "  Using cached tensorboard-2.9.1-py3-none-any.whl (5.8 MB)\n",
      "Requirement already satisfied: termcolor>=1.1.0 in c:\\java\\miniconda3\\envs\\.py39\\lib\\site-packages (from tensorflow) (2.1.1)\n",
      "Requirement already satisfied: wheel<1.0,>=0.23.0 in c:\\java\\miniconda3\\envs\\.py39\\lib\\site-packages (from astunparse>=1.6.0->tensorflow) (0.37.1)\n",
      "Requirement already satisfied: markdown>=2.6.8 in c:\\java\\miniconda3\\envs\\.py39\\lib\\site-packages (from tensorboard<2.10,>=2.9->tensorflow) (3.4.1)\n",
      "Requirement already satisfied: tensorboard-plugin-wit>=1.6.0 in c:\\java\\miniconda3\\envs\\.py39\\lib\\site-packages (from tensorboard<2.10,>=2.9->tensorflow) (1.8.1)\n",
      "Requirement already satisfied: google-auth<3,>=1.6.3 in c:\\java\\miniconda3\\envs\\.py39\\lib\\site-packages (from tensorboard<2.10,>=2.9->tensorflow) (2.14.1)\n",
      "Requirement already satisfied: google-auth-oauthlib<0.5,>=0.4.1 in c:\\java\\miniconda3\\envs\\.py39\\lib\\site-packages (from tensorboard<2.10,>=2.9->tensorflow) (0.4.6)\n",
      "Requirement already satisfied: tensorboard-data-server<0.7.0,>=0.6.0 in c:\\java\\miniconda3\\envs\\.py39\\lib\\site-packages (from tensorboard<2.10,>=2.9->tensorflow) (0.6.1)\n",
      "Requirement already satisfied: werkzeug>=1.0.1 in c:\\java\\miniconda3\\envs\\.py39\\lib\\site-packages (from tensorboard<2.10,>=2.9->tensorflow) (2.2.2)\n",
      "Requirement already satisfied: requests<3,>=2.21.0 in c:\\java\\miniconda3\\envs\\.py39\\lib\\site-packages (from tensorboard<2.10,>=2.9->tensorflow) (2.28.1)\n",
      "Requirement already satisfied: pyparsing!=3.0.5,>=2.0.2 in c:\\users\\lg pc\\appdata\\roaming\\python\\python39\\site-packages (from packaging->tensorflow) (3.0.9)\n",
      "Requirement already satisfied: cachetools<6.0,>=2.0.0 in c:\\java\\miniconda3\\envs\\.py39\\lib\\site-packages (from google-auth<3,>=1.6.3->tensorboard<2.10,>=2.9->tensorflow) (5.2.0)\n",
      "Requirement already satisfied: pyasn1-modules>=0.2.1 in c:\\java\\miniconda3\\envs\\.py39\\lib\\site-packages (from google-auth<3,>=1.6.3->tensorboard<2.10,>=2.9->tensorflow) (0.2.8)\n",
      "Requirement already satisfied: rsa<5,>=3.1.4 in c:\\java\\miniconda3\\envs\\.py39\\lib\\site-packages (from google-auth<3,>=1.6.3->tensorboard<2.10,>=2.9->tensorflow) (4.9)\n",
      "Requirement already satisfied: requests-oauthlib>=0.7.0 in c:\\java\\miniconda3\\envs\\.py39\\lib\\site-packages (from google-auth-oauthlib<0.5,>=0.4.1->tensorboard<2.10,>=2.9->tensorflow) (1.3.1)\n",
      "Requirement already satisfied: importlib-metadata>=4.4 in c:\\java\\miniconda3\\envs\\.py39\\lib\\site-packages (from markdown>=2.6.8->tensorboard<2.10,>=2.9->tensorflow) (4.11.3)\n",
      "Requirement already satisfied: certifi>=2017.4.17 in c:\\java\\miniconda3\\envs\\.py39\\lib\\site-packages (from requests<3,>=2.21.0->tensorboard<2.10,>=2.9->tensorflow) (2022.9.24)\n",
      "Requirement already satisfied: charset-normalizer<3,>=2 in c:\\java\\miniconda3\\envs\\.py39\\lib\\site-packages (from requests<3,>=2.21.0->tensorboard<2.10,>=2.9->tensorflow) (2.0.4)\n",
      "Requirement already satisfied: urllib3<1.27,>=1.21.1 in c:\\java\\miniconda3\\envs\\.py39\\lib\\site-packages (from requests<3,>=2.21.0->tensorboard<2.10,>=2.9->tensorflow) (1.26.12)\n",
      "Requirement already satisfied: idna<4,>=2.5 in c:\\java\\miniconda3\\envs\\.py39\\lib\\site-packages (from requests<3,>=2.21.0->tensorboard<2.10,>=2.9->tensorflow) (3.4)\n",
      "Requirement already satisfied: MarkupSafe>=2.1.1 in c:\\java\\miniconda3\\envs\\.py39\\lib\\site-packages (from werkzeug>=1.0.1->tensorboard<2.10,>=2.9->tensorflow) (2.1.1)\n",
      "Requirement already satisfied: zipp>=0.5 in c:\\java\\miniconda3\\envs\\.py39\\lib\\site-packages (from importlib-metadata>=4.4->markdown>=2.6.8->tensorboard<2.10,>=2.9->tensorflow) (3.8.0)\n",
      "Requirement already satisfied: pyasn1<0.5.0,>=0.4.6 in c:\\java\\miniconda3\\envs\\.py39\\lib\\site-packages (from pyasn1-modules>=0.2.1->google-auth<3,>=1.6.3->tensorboard<2.10,>=2.9->tensorflow) (0.4.8)\n",
      "Requirement already satisfied: oauthlib>=3.0.0 in c:\\java\\miniconda3\\envs\\.py39\\lib\\site-packages (from requests-oauthlib>=0.7.0->google-auth-oauthlib<0.5,>=0.4.1->tensorboard<2.10,>=2.9->tensorflow) (3.2.2)\n",
      "Installing collected packages: flatbuffers, protobuf, gast, tensorboard\n",
      "  Attempting uninstall: flatbuffers\n",
      "    Found existing installation: flatbuffers 2.0\n",
      "    Uninstalling flatbuffers-2.0:\n",
      "      Successfully uninstalled flatbuffers-2.0\n",
      "  Attempting uninstall: protobuf\n",
      "    Found existing installation: protobuf 3.20.1\n",
      "    Uninstalling protobuf-3.20.1:\n",
      "      Successfully uninstalled protobuf-3.20.1\n",
      "  Rolling back uninstall of protobuf\n",
      "  Moving to c:\\java\\miniconda3\\envs\\.py39\\lib\\site-packages\\protobuf-3.20.1-py3.9.egg-info\n",
      "   from C:\\Java\\miniconda3\\envs\\.py39\\Lib\\site-packages\\~rotobuf-3.20.1-py3.9.egg-info\n",
      "Note: you may need to restart the kernel to use updated packages.\n"
     ]
    },
    {
     "name": "stderr",
     "output_type": "stream",
     "text": [
      "ERROR: Could not install packages due to an OSError: [WinError 5] 액세스가 거부되었습니다: 'C:\\\\Java\\\\miniconda3\\\\envs\\\\.py39\\\\Lib\\\\site-packages\\\\google\\\\protobuf\\\\internal\\\\_api_implementation.cp39-win_amd64.pyd'\n",
      "Consider using the `--user` option or check the permissions.\n",
      "\n"
     ]
    }
   ],
   "source": [
    "# pip install tensorflow"
   ]
  },
  {
   "cell_type": "code",
   "execution_count": 2,
   "metadata": {
    "collapsed": true,
    "jupyter": {
     "outputs_hidden": true
    },
    "tags": []
   },
   "outputs": [
    {
     "name": "stdout",
     "output_type": "stream",
     "text": [
      "Collecting package metadata (current_repodata.json): ...working... done\n",
      "Note: you may need to restart the kernel to use updated packages.\n",
      "\n",
      "Solving environment: ...working... done\n",
      "\n",
      "## Package Plan ##\n",
      "\n",
      "  environment location: C:\\Java\\miniconda3\n",
      "\n",
      "  added / updated specs:\n",
      "    - conda\n",
      "\n",
      "\n",
      "The following packages will be downloaded:\n",
      "\n",
      "    package                    |            build\n",
      "    ---------------------------|-----------------\n",
      "    conda-22.9.0               |   py39haa95532_0         888 KB\n",
      "    conda-package-handling-1.9.0|   py39h8cc25b3_1         744 KB\n",
      "    pycosat-0.6.4              |   py39h2bbff1b_0          74 KB\n",
      "    toolz-0.12.0               |   py39haa95532_0         106 KB\n",
      "    tqdm-4.64.1                |   py39haa95532_0         143 KB\n",
      "    ------------------------------------------------------------\n",
      "                                           Total:         1.9 MB\n",
      "\n",
      "The following NEW packages will be INSTALLED:\n",
      "\n",
      "  toolz              pkgs/main/win-64::toolz-0.12.0-py39haa95532_0\n",
      "\n",
      "The following packages will be REMOVED:\n",
      "\n",
      "  conda-content-trust-0.1.1-pyhd3eb1b0_0\n",
      "  six-1.16.0-pyhd3eb1b0_1\n",
      "\n",
      "The following packages will be UPDATED:\n",
      "\n",
      "  ca-certificates                      2022.3.29-haa95532_1 --> 2022.10.11-haa95532_0\n",
      "  certifi                          2021.10.8-py39haa95532_2 --> 2022.9.24-py39haa95532_0\n",
      "  cffi                                1.15.0-py39h2bbff1b_1 --> 1.15.1-py39h2bbff1b_0\n",
      "  colorama           pkgs/main/noarch::colorama-0.4.4-pyhd~ --> pkgs/main/win-64::colorama-0.4.5-py39haa95532_0\n",
      "  conda                               4.12.0-py39haa95532_0 --> 22.9.0-py39haa95532_0\n",
      "  conda-package-han~                   1.8.1-py39h8cc25b3_0 --> 1.9.0-py39h8cc25b3_1\n",
      "  cryptography                        36.0.0-py39h21b164f_0 --> 38.0.1-py39h21b164f_0\n",
      "  idna               pkgs/main/noarch::idna-3.3-pyhd3eb1b0~ --> pkgs/main/win-64::idna-3.4-py39haa95532_0\n",
      "  openssl                                 1.1.1n-h2bbff1b_0 --> 1.1.1s-h2bbff1b_0\n",
      "  pip                                 21.2.4-py39haa95532_0 --> 22.2.2-py39haa95532_0\n",
      "  pycosat                              0.6.3-py39h2bbff1b_0 --> 0.6.4-py39h2bbff1b_0\n",
      "  requests           pkgs/main/noarch::requests-2.27.1-pyh~ --> pkgs/main/win-64::requests-2.28.1-py39haa95532_0\n",
      "  setuptools                          61.2.0-py39haa95532_0 --> 65.5.0-py39haa95532_0\n",
      "  sqlite                                  3.38.2-h2bbff1b_0 --> 3.40.0-h2bbff1b_0\n",
      "  tqdm               pkgs/main/noarch::tqdm-4.63.0-pyhd3eb~ --> pkgs/main/win-64::tqdm-4.64.1-py39haa95532_0\n",
      "  tzdata                                   2022a-hda174b7_0 --> 2022f-h04d1e81_0\n",
      "  urllib3            pkgs/main/noarch::urllib3-1.26.8-pyhd~ --> pkgs/main/win-64::urllib3-1.26.12-py39haa95532_0\n",
      "\n",
      "\n",
      "\n",
      "Downloading and Extracting Packages\n",
      "\n",
      "pycosat-0.6.4        | 74 KB     |            |   0% \n",
      "pycosat-0.6.4        | 74 KB     | ########## | 100% \n",
      "pycosat-0.6.4        | 74 KB     | ########## | 100% \n",
      "\n",
      "toolz-0.12.0         | 106 KB    |            |   0% \n",
      "toolz-0.12.0         | 106 KB    | ########## | 100% \n",
      "toolz-0.12.0         | 106 KB    | ########## | 100% \n",
      "\n",
      "conda-package-handli | 744 KB    |            |   0% \n",
      "conda-package-handli | 744 KB    | ########## | 100% \n",
      "conda-package-handli | 744 KB    | ########## | 100% \n",
      "\n",
      "conda-22.9.0         | 888 KB    |            |   0% \n",
      "conda-22.9.0         | 888 KB    | ########## | 100% \n",
      "conda-22.9.0         | 888 KB    | ########## | 100% \n",
      "\n",
      "tqdm-4.64.1          | 143 KB    |            |   0% \n",
      "tqdm-4.64.1          | 143 KB    | ########## | 100% \n",
      "tqdm-4.64.1          | 143 KB    | ########## | 100% \n",
      "Preparing transaction: ...working... done\n",
      "Verifying transaction: ...working... done\n",
      "Executing transaction: ...working... done\n"
     ]
    }
   ],
   "source": [
    "#conda update -n base -c defaults conda"
   ]
  },
  {
   "cell_type": "code",
   "execution_count": 1,
   "metadata": {
    "pycharm": {
     "name": "#%%\n"
    }
   },
   "outputs": [
    {
     "name": "stdout",
     "output_type": "stream",
     "text": [
      "2.9.1\n"
     ]
    }
   ],
   "source": [
    "# 버젼 확인\n",
    "import tensorflow as tf\n",
    "print(tf.__version__)"
   ]
  },
  {
   "cell_type": "code",
   "execution_count": 7,
   "metadata": {
    "collapsed": false,
    "jupyter": {
     "outputs_hidden": false
    },
    "pycharm": {
     "name": "#%%\n"
    }
   },
   "outputs": [],
   "source": [
    "# 라이브러리 적재\n",
    "from tensorflow.keras.models import Sequential\n",
    "from tensorflow.keras.layers import Dense\n",
    "import numpy as np"
   ]
  },
  {
   "cell_type": "code",
   "execution_count": 8,
   "metadata": {
    "collapsed": false,
    "jupyter": {
     "outputs_hidden": false
    },
    "pycharm": {
     "name": "#%%\n"
    }
   },
   "outputs": [],
   "source": [
    "# 데이터 적재 - 폐암 수술 환자의 의료 기록과 1년 후 사망 여부\n",
    "# 종양의 유형, 폐활량, 호흡 곤란 여부, 고통 정도, 기침, 흡연, 천식 여부 등 16가지 환자 상태를 조사해서 기록\n",
    "# 수술 1년 후의 생존 결과\n",
    "Data_set = np.loadtxt(\"data/ThoraricSurgery3.csv\", delimiter=\",\")\n",
    "X = Data_set[:,0:16]\n",
    "y = Data_set[:,16]"
   ]
  },
  {
   "cell_type": "code",
   "execution_count": 9,
   "metadata": {
    "collapsed": false,
    "jupyter": {
     "outputs_hidden": false
    },
    "pycharm": {
     "name": "#%%\n"
    }
   },
   "outputs": [],
   "source": [
    "# 신경망 모델 구조 정의\n",
    "# 케라스의 Sequential() 함수는 딥러닝의 한 층 한 층을 model.add()라는 함수를 사용해 간단히 추가시킴\n",
    "# Dense는 ‘밀집한, 빽빽한’이란 뜻으로, 여기서는 각 층의 입력과 출력을 촘촘하게 모두 연결하라는 것\n",
    "model = Sequential()\n",
    "model.add(Dense(30, input_dim=16, activation='relu'))\n",
    "model.add(Dense(1, activation='sigmoid'))"
   ]
  },
  {
   "cell_type": "code",
   "execution_count": 10,
   "metadata": {
    "collapsed": false,
    "jupyter": {
     "outputs_hidden": false
    },
    "pycharm": {
     "name": "#%%\n"
    }
   },
   "outputs": [
    {
     "name": "stdout",
     "output_type": "stream",
     "text": [
      "Epoch 1/5\n",
      "30/30 [==============================] - 1s 2ms/step - loss: 1.0930 - accuracy: 0.8489\n",
      "Epoch 2/5\n",
      "30/30 [==============================] - 0s 2ms/step - loss: 0.4482 - accuracy: 0.8489\n",
      "Epoch 3/5\n",
      "30/30 [==============================] - 0s 2ms/step - loss: 0.4219 - accuracy: 0.8511\n",
      "Epoch 4/5\n",
      "30/30 [==============================] - 0s 2ms/step - loss: 0.4306 - accuracy: 0.8532\n",
      "Epoch 5/5\n",
      "30/30 [==============================] - 0s 2ms/step - loss: 0.4193 - accuracy: 0.8468\n"
     ]
    }
   ],
   "source": [
    "# 신경망 실행\n",
    "# 앞 단계에서 만들어진 딥러닝 구조를 어떤 방식으로 구동시키고 어떻게 마무리할 것인지와 관련된 옵션\n",
    "model.compile(loss='binary_crossentropy', optimizer='adam', metrics=['accuracy'])\n",
    "\n",
    "# 딥러닝의 학습 방식은 이 층들을 한 번만 통과하는 것이 아니라 위아래로 여러 차례 오가며 최적의 모델을 찾는 것\n",
    "# 단, 몇 번을 오갈 것인지, 그리고 한 번 오갈 때 몇 개의 데이터를 사용할 것인지 정할 필요는 있음\n",
    "history = model.fit(X, y, epochs=5, batch_size=16)"
   ]
  },
  {
   "cell_type": "code",
   "execution_count": 7,
   "metadata": {
    "collapsed": false,
    "jupyter": {
     "outputs_hidden": false
    },
    "pycharm": {
     "name": "#%%\n"
    }
   },
   "outputs": [],
   "source": [
    "# https://docs.nvidia.com/deeplearning/cudnn/install-guide/index.html#install-zlib-windows\n",
    "\n",
    "# 텐서플로 GPU 지원여부\n",
    "# 시스템에 nvidia GPU가 없다 \n",
    "#     => CPU만 지원하는 텐서플로 패키지 사용 : 가속 미지원\n",
    "#     => PlaidML을 이용 : 가속 지원\n",
    "\n",
    "# 시스템에 nvidia GPU가 있다\n",
    "#    => GPU를 지원하는 텐서플로 패키지 사용\n",
    "#    => nivida에서 제공하는 딥러닝 관련 S/W를 설치\n",
    "\n",
    "# 자신의 GPU가 텐서플로를 지원하는지 확인\n",
    "# developer.nvidia.com/cuda-gpus\n",
    "# GTX 1060 - CUDA 6.1\n",
    "# GTX 1050 - CUDA 6.1\n",
    "\n",
    "# 텐서플로/CUDA 설치방법\n",
    "# tensorflow.org/install/gpu\n",
    "# NVIDIA® GPU 드라이버 - CUDA 10.0에는 410.x 이상\n",
    "# CUDA® Toolkit - TensorFlow는 CUDA 10.0 지원\n",
    "# cuDNN SDK - 7.4.1 이상\n",
    "\n",
    "# developer.nvidia.com/cuda-zone\n",
    "#   Legacy Releases => Archived Releases\n",
    "#   CUDA Toolkit 10.0 (Sept 2018) : 2.1G\n",
    "\n",
    "# developer.nvidia.com/cuDNN   (로그인 필요!)\n",
    "#   Download cuDNN => 로그인 => 라이센스 동의\n",
    "#   => Archived cuDNN Releases\n",
    "#   cuDNN v7.4.1 (Nov 8, 2018), for CUDA 10.0\n",
    "#   cuDNN v7.5.1 (April 22, 2019), for CUDA 10.0\n",
    "\n",
    "# CUDA toolkit 설치 \n",
    "#     => 설치옵션 : 사용자 정의\n",
    "#     => Nvidia Geforce Experience 제외\n",
    "#     => visual studio integration 해제\n",
    "\n",
    "# CUDA toolkit PATH 환경변수 설정\n",
    "# C:\\Program Files\\NVIDIA GPU Computing Toolkit\\CUDA\\v10.0\\bin\n",
    "\n",
    "# cuDNN 압축해제 후 CUDA/10.0 아래에 덮어쓰기 함\n",
    "# bin, include, lib 폴더와 txt 파일 하나가 복사됨\n",
    "\n",
    "# zlibwapi.dll 파일을 bin 폴더에 넣어줍니다.\n",
    "# C:\\Program Files\\NVIDIA GPU Computing Toolkit\\CUDA\\v11.6\\bin\n"
   ]
  },
  {
   "cell_type": "code",
   "execution_count": 11,
   "metadata": {},
   "outputs": [
    {
     "data": {
      "text/plain": [
       "'2.9.1'"
      ]
     },
     "execution_count": 11,
     "metadata": {},
     "output_type": "execute_result"
    }
   ],
   "source": [
    "import tensorflow as tf\n",
    "tf.__version__"
   ]
  },
  {
   "cell_type": "code",
   "execution_count": 12,
   "metadata": {},
   "outputs": [
    {
     "data": {
      "text/plain": [
       "[name: \"/device:CPU:0\"\n",
       " device_type: \"CPU\"\n",
       " memory_limit: 268435456\n",
       " locality {\n",
       " }\n",
       " incarnation: 17278690700233436360\n",
       " xla_global_id: -1]"
      ]
     },
     "execution_count": 12,
     "metadata": {},
     "output_type": "execute_result"
    }
   ],
   "source": [
    "from tensorflow.python.client import device_lib\n",
    "device_lib.list_local_devices()"
   ]
  },
  {
   "cell_type": "code",
   "execution_count": null,
   "metadata": {},
   "outputs": [],
   "source": []
  }
 ],
 "metadata": {
  "kernelspec": {
   "display_name": "Python 3 (ipykernel)",
   "language": "python",
   "name": "python3"
  },
  "language_info": {
   "codemirror_mode": {
    "name": "ipython",
    "version": 3
   },
   "file_extension": ".py",
   "mimetype": "text/x-python",
   "name": "python",
   "nbconvert_exporter": "python",
   "pygments_lexer": "ipython3",
   "version": "3.9.15"
  }
 },
 "nbformat": 4,
 "nbformat_minor": 4
}
